{
 "cells": [
  {
   "cell_type": "code",
   "execution_count": null,
   "metadata": {},
   "outputs": [],
   "source": []
  }
 ],
 "metadata": {
  "kernelspec": {
   "display_name": "Python 3.10.4 ('cassum-2022-project-21')",
   "language": "python",
   "name": "python3"
  },
  "language_info": {
   "name": "python",
   "version": "3.10.4"
  },
  "orig_nbformat": 4,
  "vscode": {
   "interpreter": {
    "hash": "ba05344f9019a867cd8f236f4037fbf6c101774b5b2d81ebfd8683f07c80fd93"
   }
  }
 },
 "nbformat": 4,
 "nbformat_minor": 2
}

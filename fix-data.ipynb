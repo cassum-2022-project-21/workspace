{
 "cells": [
  {
   "cell_type": "code",
   "execution_count": 5,
   "metadata": {},
   "outputs": [
    {
     "name": "stdout",
     "output_type": "stream",
     "text": [
      "iopf_sim_DRAG_1.0_N_100_29381 drag_coefficient=1 n_particles=100 seed=29381 torque=0\n",
      "iopf_sim_torque_DRAG_1.0_N_100_29381 drag_coefficient=1 n_particles=100 seed=29381 torque=1\n",
      "iopf_sim_DRAG_1.0_N_100_47220 drag_coefficient=1 n_particles=100 seed=47220 torque=0\n",
      "iopf_sim_torque_DRAG_1.0_N_100_47220 drag_coefficient=1 n_particles=100 seed=47220 torque=1\n",
      "iopf_sim_DRAG_1.0_N_100_61392 drag_coefficient=1 n_particles=100 seed=61392 torque=0\n",
      "iopf_sim_torque_DRAG_1.0_N_100_61392 drag_coefficient=1 n_particles=100 seed=61392 torque=1\n",
      "iopf_sim_DRAG_1.0_N_100_92718 drag_coefficient=1 n_particles=100 seed=92718 torque=0\n",
      "iopf_sim_torque_DRAG_1.0_N_100_92718 drag_coefficient=1 n_particles=100 seed=92718 torque=1\n"
     ]
    }
   ],
   "source": [
    "from pathlib import Path\n",
    "from util import NUMBER_REGEX\n",
    "import numpy as np\n",
    "\n",
    "simon_dir = \"sim/simon_simulations_20220721_torques/\"\n",
    "simon_path = Path(simon_dir)\n",
    "\n",
    "sims = {}\n",
    "\n",
    "c = 0\n",
    "def p(*args, **kwargs):\n",
    "    global c\n",
    "    if c < 10:\n",
    "        print(*args, **kwargs)\n",
    "        c += 1\n",
    "\n",
    "for sim_path in (i for j in zip(simon_path.glob(\"iopf_sim_DRAG*\"), simon_path.glob(\"iopf_sim_torque*\")) for i in j):\n",
    "    label = sim_path.name\n",
    "    slabel = label.split(\"_\")\n",
    "    drag_coefficient = int(slabel[slabel.index('DRAG')+1][0])\n",
    "    n_particles = int(slabel[slabel.index('N')+1])\n",
    "    seed = int(slabel[-1])\n",
    "    torque = int(\"torque\" in label)\n",
    "\n",
    "    output_path = sim_path / \"output.txt\"\n",
    "    with open(output_path, \"r\") as output_file:\n",
    "        _t = 0\n",
    "        _sysT = 0\n",
    "        L = []\n",
    "        for line in output_file:\n",
    "            if line.startswith(\"t = \"):\n",
    "                t, N, sysT, *_ = map(float, NUMBER_REGEX.findall(line))\n",
    "\n",
    "                if sysT > _sysT:\n",
    "                    dt = t - _t\n",
    "                    dsysT = sysT - _sysT\n",
    "                    L.append((N, dt/dsysT))\n",
    "\n",
    "                _t = t\n",
    "                _sysT = sysT\n",
    "    \n",
    "    sims[label] = {\n",
    "        \"label\": label,\n",
    "        \"drag_coefficient\": drag_coefficient,\n",
    "        \"n_particles\": n_particles,\n",
    "        \"seed\": seed,\n",
    "        \"path\": sim_path,\n",
    "        \"runtimes\": np.array(L),\n",
    "        \"torque\": torque\n",
    "    }\n",
    "\n",
    "    print(f\"{label} {drag_coefficient=} {n_particles=} {seed=} {torque=}\")"
   ]
  },
  {
   "cell_type": "code",
   "execution_count": 6,
   "metadata": {},
   "outputs": [],
   "source": [
    "import rebound\n",
    "from sim import data_io\n",
    "\n",
    "def store_hdf5_rebound(buffer_rebound, sim):\n",
    "    if sim.N < buffer_rebound.buf_x.shape[1]:\n",
    "        buffer_rebound.flush()\n",
    "        buffer_rebound.reset_buffer()\n",
    "        buffer_rebound.initialize_buffer(sim.N)\n",
    "\n",
    "    # Special routine to store rebound data into ABIE HDF5 format\n",
    "    x = np.full(sim.N, np.nan)\n",
    "    y = np.full(sim.N, np.nan)\n",
    "    z = np.full(sim.N, np.nan)\n",
    "    vx = np.full(sim.N, np.nan)\n",
    "    vy = np.full(sim.N, np.nan)\n",
    "    vz = np.full(sim.N, np.nan)\n",
    "    masses = np.full(sim.N, np.nan)\n",
    "    semi = np.full(sim.N, np.nan)\n",
    "    ecc = np.full(sim.N, np.nan)\n",
    "    inc = np.full(sim.N, np.nan)\n",
    "    hashes = np.full(sim.N, -1, dtype=int)\n",
    "    orbits = sim.calculate_orbits()\n",
    "    for i in range(sim.N):\n",
    "        x[i] = sim.particles[i].x\n",
    "        y[i] = sim.particles[i].y\n",
    "        z[i] = sim.particles[i].z\n",
    "        vx[i] = sim.particles[i].vx\n",
    "        vy[i] = sim.particles[i].vy\n",
    "        vz[i] = sim.particles[i].vz\n",
    "        masses[i] = sim.particles[i].m\n",
    "        hashes[i] = sim.particles[i].hash.value\n",
    "        if i > 0:\n",
    "            semi[i] = orbits[i - 1].a\n",
    "            ecc[i] = orbits[i - 1].e\n",
    "            inc[i] = orbits[i - 1].inc\n",
    "    pos = np.column_stack([x, y, z]).flatten()\n",
    "    vel = np.column_stack([vx, vy, vz]).flatten()\n",
    "    buffer_rebound.store_state(sim.t, pos=pos, vel=vel, masses=masses, a=semi, e=ecc, i=inc, names=hashes,\n",
    "                                    energy=sim.calculate_energy())\n"
   ]
  },
  {
   "cell_type": "code",
   "execution_count": 9,
   "metadata": {},
   "outputs": [
    {
     "ename": "KeyboardInterrupt",
     "evalue": "",
     "output_type": "error",
     "traceback": [
      "\u001b[0;31m---------------------------------------------------------------------------\u001b[0m",
      "\u001b[0;31mKeyboardInterrupt\u001b[0m                         Traceback (most recent call last)",
      "\u001b[1;32m/home/alchzh/cassum-2022-project-21/workspace/fix-data.ipynb Cell 3\u001b[0m in \u001b[0;36m<cell line: 1>\u001b[0;34m()\u001b[0m\n\u001b[1;32m     <a href='vscode-notebook-cell://ssh-remote%2Bhome/home/alchzh/cassum-2022-project-21/workspace/fix-data.ipynb#ch0000004vscode-remote?line=11'>12</a>\u001b[0m     sim \u001b[39m=\u001b[39m sa[i]\n\u001b[1;32m     <a href='vscode-notebook-cell://ssh-remote%2Bhome/home/alchzh/cassum-2022-project-21/workspace/fix-data.ipynb#ch0000004vscode-remote?line=12'>13</a>\u001b[0m     sim\u001b[39m.\u001b[39mG \u001b[39m=\u001b[39m \u001b[39m4\u001b[39m \u001b[39m*\u001b[39m np\u001b[39m.\u001b[39mpi \u001b[39m*\u001b[39m\u001b[39m*\u001b[39m \u001b[39m2\u001b[39m\n\u001b[0;32m---> <a href='vscode-notebook-cell://ssh-remote%2Bhome/home/alchzh/cassum-2022-project-21/workspace/fix-data.ipynb#ch0000004vscode-remote?line=13'>14</a>\u001b[0m     store_hdf5_rebound(v[\u001b[39m\"\u001b[39;49m\u001b[39mbuffer_rebound\u001b[39;49m\u001b[39m\"\u001b[39;49m], sim)\n\u001b[1;32m     <a href='vscode-notebook-cell://ssh-remote%2Bhome/home/alchzh/cassum-2022-project-21/workspace/fix-data.ipynb#ch0000004vscode-remote?line=15'>16</a>\u001b[0m v[\u001b[39m\"\u001b[39m\u001b[39mbuffer_rebound\u001b[39m\u001b[39m\"\u001b[39m]\u001b[39m.\u001b[39mclose()\n",
      "\u001b[1;32m/home/alchzh/cassum-2022-project-21/workspace/fix-data.ipynb Cell 3\u001b[0m in \u001b[0;36mstore_hdf5_rebound\u001b[0;34m(buffer_rebound, sim)\u001b[0m\n\u001b[1;32m     <a href='vscode-notebook-cell://ssh-remote%2Bhome/home/alchzh/cassum-2022-project-21/workspace/fix-data.ipynb#ch0000004vscode-remote?line=19'>20</a>\u001b[0m inc \u001b[39m=\u001b[39m np\u001b[39m.\u001b[39mfull(sim\u001b[39m.\u001b[39mN, np\u001b[39m.\u001b[39mnan)\n\u001b[1;32m     <a href='vscode-notebook-cell://ssh-remote%2Bhome/home/alchzh/cassum-2022-project-21/workspace/fix-data.ipynb#ch0000004vscode-remote?line=20'>21</a>\u001b[0m hashes \u001b[39m=\u001b[39m np\u001b[39m.\u001b[39mfull(sim\u001b[39m.\u001b[39mN, \u001b[39m-\u001b[39m\u001b[39m1\u001b[39m, dtype\u001b[39m=\u001b[39m\u001b[39mint\u001b[39m)\n\u001b[0;32m---> <a href='vscode-notebook-cell://ssh-remote%2Bhome/home/alchzh/cassum-2022-project-21/workspace/fix-data.ipynb#ch0000004vscode-remote?line=21'>22</a>\u001b[0m orbits \u001b[39m=\u001b[39m sim\u001b[39m.\u001b[39;49mcalculate_orbits()\n\u001b[1;32m     <a href='vscode-notebook-cell://ssh-remote%2Bhome/home/alchzh/cassum-2022-project-21/workspace/fix-data.ipynb#ch0000004vscode-remote?line=22'>23</a>\u001b[0m \u001b[39mfor\u001b[39;00m i \u001b[39min\u001b[39;00m \u001b[39mrange\u001b[39m(sim\u001b[39m.\u001b[39mN):\n\u001b[1;32m     <a href='vscode-notebook-cell://ssh-remote%2Bhome/home/alchzh/cassum-2022-project-21/workspace/fix-data.ipynb#ch0000004vscode-remote?line=23'>24</a>\u001b[0m     x[i] \u001b[39m=\u001b[39m sim\u001b[39m.\u001b[39mparticles[i]\u001b[39m.\u001b[39mx\n",
      "File \u001b[0;32m~/cassum-2022-project-21/workspace/src/rebound/rebound/simulation.py:1481\u001b[0m, in \u001b[0;36mSimulation.calculate_orbits\u001b[0;34m(self, primary, jacobi_masses)\u001b[0m\n\u001b[1;32m   1479\u001b[0m     primary\u001b[39m.\u001b[39mm \u001b[39m=\u001b[39m interior_mass \u001b[39m# back to total mass of interior bodies to update com\u001b[39;00m\n\u001b[1;32m   1480\u001b[0m \u001b[39melse\u001b[39;00m:\n\u001b[0;32m-> 1481\u001b[0m     orbits\u001b[39m.\u001b[39mappend(p\u001b[39m.\u001b[39;49mcalculate_orbit(primary\u001b[39m=\u001b[39;49mprimary))\n\u001b[1;32m   1482\u001b[0m \u001b[39mif\u001b[39;00m jacobi \u001b[39mis\u001b[39;00m \u001b[39mTrue\u001b[39;00m: \u001b[39m# update com to include current particle for next iteration\u001b[39;00m\n\u001b[1;32m   1483\u001b[0m     primary \u001b[39m=\u001b[39m clibrebound\u001b[39m.\u001b[39mreb_get_com_of_pair(primary, p)\n",
      "File \u001b[0;32m~/cassum-2022-project-21/workspace/src/rebound/rebound/particle.py:449\u001b[0m, in \u001b[0;36mParticle.calculate_orbit\u001b[0;34m(self, primary, G)\u001b[0m\n\u001b[1;32m    447\u001b[0m err \u001b[39m=\u001b[39m c_int()\n\u001b[1;32m    448\u001b[0m clibrebound\u001b[39m.\u001b[39mreb_tools_particle_to_orbit_err\u001b[39m.\u001b[39mrestype \u001b[39m=\u001b[39m rebound\u001b[39m.\u001b[39mOrbit\n\u001b[0;32m--> 449\u001b[0m o \u001b[39m=\u001b[39m clibrebound\u001b[39m.\u001b[39mreb_tools_particle_to_orbit_err(G, \u001b[39mself\u001b[39m, primary, byref(err))\n\u001b[1;32m    451\u001b[0m \u001b[39mif\u001b[39;00m err\u001b[39m.\u001b[39mvalue \u001b[39m==\u001b[39m \u001b[39m1\u001b[39m:\n\u001b[1;32m    452\u001b[0m     \u001b[39mraise\u001b[39;00m \u001b[39mValueError\u001b[39;00m(\u001b[39m\"\u001b[39m\u001b[39mPrimary has no mass.\u001b[39m\u001b[39m\"\u001b[39m)\n",
      "\u001b[0;31mKeyboardInterrupt\u001b[0m: "
     ]
    }
   ],
   "source": [
    "\n",
    "for _, v in sims.items():\n",
    "    seed = v[\"seed\"]\n",
    "    br_path = v[\"path\"] / f\"mercurius_data_reb_{seed}.h5\"\n",
    "\n",
    "    v[\"buffer_rebound\"] = data_io.DataIO(output_file_name=str(br_path), CONST_G=4 * np.pi **2., append=False)\n",
    "\n",
    "    sa = rebound.SimulationArchive(str(v[\"path\"] / \"mercurius_rebound_archive.bin\"))\n",
    "\n",
    "    v[\"buffer_rebound\"].initialize_buffer(sa[0].N)\n",
    "\n",
    "    for i in range(9800 if \"bad\" in v[\"label\"] else 0, len(sa)):\n",
    "        sim = sa[i]\n",
    "        sim.G = 4 * np.pi ** 2\n",
    "        store_hdf5_rebound(v[\"buffer_rebound\"], sim)\n",
    "\n",
    "    v[\"buffer_rebound\"].close()\n",
    "        "
   ]
  },
  {
   "cell_type": "code",
   "execution_count": 10,
   "metadata": {},
   "outputs": [],
   "source": [
    "for _, v in sims.items():\n",
    "    seed = v[\"seed\"]\n",
    "    br_path = v[\"path\"] / f\"mercurius_data_reb_{seed}.h5\"\n",
    "\n",
    "    sa = rebound.SimulationArchive(str(v[\"path\"] / \"mercurius_rebound_archive.bin\"))\n",
    "    _t = float('inf')\n",
    "    for i in range(len(sa)-1, -1, -1):\n",
    "        s = sa[i]\n",
    "        if s.t > _t:\n",
    "            print(v[\"label\"], i)\n",
    "            break\n",
    "        _t = s.t"
   ]
  },
  {
   "cell_type": "code",
   "execution_count": 8,
   "metadata": {},
   "outputs": [],
   "source": [
    "from h5py import File\n",
    "import gc\n",
    "\n",
    "for obj in gc.get_objects():   # Browse through ALL objects\n",
    "    if isinstance(obj, data_io.DataIO) or isinstance(obj, File):   # Just HDF5 files\n",
    "        try:\n",
    "            obj.close()\n",
    "        except:\n",
    "            pass # Was already closed"
   ]
  }
 ],
 "metadata": {
  "kernelspec": {
   "display_name": "Python 3.10.4 ('cassum-2022-project-21')",
   "language": "python",
   "name": "python3"
  },
  "language_info": {
   "codemirror_mode": {
    "name": "ipython",
    "version": 3
   },
   "file_extension": ".py",
   "mimetype": "text/x-python",
   "name": "python",
   "nbconvert_exporter": "python",
   "pygments_lexer": "ipython3",
   "version": "3.10.4"
  },
  "orig_nbformat": 4,
  "vscode": {
   "interpreter": {
    "hash": "ba05344f9019a867cd8f236f4037fbf6c101774b5b2d81ebfd8683f07c80fd93"
   }
  }
 },
 "nbformat": 4,
 "nbformat_minor": 2
}

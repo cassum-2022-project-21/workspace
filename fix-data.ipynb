{
 "cells": [
  {
   "cell_type": "code",
   "execution_count": 1,
   "metadata": {},
   "outputs": [
    {
     "name": "stdout",
     "output_type": "stream",
     "text": [
      "iopf_sim_DRAG_1.0_N_100_29381 drag_coefficient=1 n_particles=100 seed=29381 torque=0\n",
      "iopf_sim_torque_DRAG_1.0_N_100_29381 drag_coefficient=1 n_particles=100 seed=29381 torque=1\n",
      "iopf_sim_DRAG_1.0_N_100_47220 drag_coefficient=1 n_particles=100 seed=47220 torque=0\n",
      "iopf_sim_torque_DRAG_1.0_N_100_47220 drag_coefficient=1 n_particles=100 seed=47220 torque=1\n",
      "iopf_sim_DRAG_1.0_N_100_61392 drag_coefficient=1 n_particles=100 seed=61392 torque=0\n",
      "iopf_sim_torque_DRAG_1.0_N_100_61392 drag_coefficient=1 n_particles=100 seed=61392 torque=1\n",
      "iopf_sim_DRAG_1.0_N_100_92718 drag_coefficient=1 n_particles=100 seed=92718 torque=0\n",
      "iopf_sim_torque_DRAG_1.0_N_100_92718 drag_coefficient=1 n_particles=100 seed=92718 torque=1\n"
     ]
    }
   ],
   "source": [
    "from pathlib import Path\n",
    "from util import NUMBER_REGEX\n",
    "import numpy as np\n",
    "\n",
    "simon_dir = \"sim/simon_simulations_20220721_torques/\"\n",
    "simon_path = Path(simon_dir)\n",
    "\n",
    "sims = {}\n",
    "\n",
    "c = 0\n",
    "def p(*args, **kwargs):\n",
    "    global c\n",
    "    if c < 10:\n",
    "        print(*args, **kwargs)\n",
    "        c += 1\n",
    "\n",
    "for sim_path in (i for j in zip(simon_path.glob(\"iopf_sim_DRAG*\"), simon_path.glob(\"iopf_sim_torque*\")) for i in j):\n",
    "    label = sim_path.name\n",
    "    slabel = label.split(\"_\")\n",
    "    drag_coefficient = int(slabel[slabel.index('DRAG')+1][0])\n",
    "    n_particles = int(slabel[slabel.index('N')+1])\n",
    "    seed = int(slabel[-1])\n",
    "    torque = int(\"torque\" in label)\n",
    "\n",
    "    output_path = sim_path / \"output.txt\"\n",
    "    with open(output_path, \"r\") as output_file:\n",
    "        _t = 0\n",
    "        _sysT = 0\n",
    "        L = []\n",
    "        for line in output_file:\n",
    "            if line.startswith(\"t = \"):\n",
    "                t, N, sysT, *_ = map(float, NUMBER_REGEX.findall(line))\n",
    "\n",
    "                if sysT > _sysT:\n",
    "                    dt = t - _t\n",
    "                    dsysT = sysT - _sysT\n",
    "                    L.append((N, dt/dsysT))\n",
    "\n",
    "                _t = t\n",
    "                _sysT = sysT\n",
    "    \n",
    "    sims[label] = {\n",
    "        \"label\": label,\n",
    "        \"drag_coefficient\": drag_coefficient,\n",
    "        \"n_particles\": n_particles,\n",
    "        \"seed\": seed,\n",
    "        \"path\": sim_path,\n",
    "        \"runtimes\": np.array(L),\n",
    "        \"torque\": torque\n",
    "    }\n",
    "\n",
    "    print(f\"{label} {drag_coefficient=} {n_particles=} {seed=} {torque=}\")"
   ]
  },
  {
   "cell_type": "code",
   "execution_count": 2,
   "metadata": {},
   "outputs": [],
   "source": [
    "import rebound\n",
    "from sim import data_io\n",
    "\n",
    "def store_hdf5_rebound(buffer_rebound, sim):\n",
    "    if sim.N < buffer_rebound.buf_x.shape[1]:\n",
    "        buffer_rebound.flush()\n",
    "        buffer_rebound.reset_buffer()\n",
    "        buffer_rebound.initialize_buffer(sim.N)\n",
    "\n",
    "    # Special routine to store rebound data into ABIE HDF5 format\n",
    "    x = np.full(sim.N, np.nan)\n",
    "    y = np.full(sim.N, np.nan)\n",
    "    z = np.full(sim.N, np.nan)\n",
    "    vx = np.full(sim.N, np.nan)\n",
    "    vy = np.full(sim.N, np.nan)\n",
    "    vz = np.full(sim.N, np.nan)\n",
    "    masses = np.full(sim.N, np.nan)\n",
    "    semi = np.full(sim.N, np.nan)\n",
    "    ecc = np.full(sim.N, np.nan)\n",
    "    inc = np.full(sim.N, np.nan)\n",
    "    hashes = np.full(sim.N, -1, dtype=int)\n",
    "    orbits = sim.calculate_orbits()\n",
    "    for i in range(sim.N):\n",
    "        x[i] = sim.particles[i].x\n",
    "        y[i] = sim.particles[i].y\n",
    "        z[i] = sim.particles[i].z\n",
    "        vx[i] = sim.particles[i].vx\n",
    "        vy[i] = sim.particles[i].vy\n",
    "        vz[i] = sim.particles[i].vz\n",
    "        masses[i] = sim.particles[i].m\n",
    "        hashes[i] = sim.particles[i].hash.value\n",
    "        if i > 0:\n",
    "            semi[i] = orbits[i - 1].a\n",
    "            ecc[i] = orbits[i - 1].e\n",
    "            inc[i] = orbits[i - 1].inc\n",
    "    pos = np.column_stack([x, y, z]).flatten()\n",
    "    vel = np.column_stack([vx, vy, vz]).flatten()\n",
    "    buffer_rebound.store_state(sim.t, pos=pos, vel=vel, masses=masses, a=semi, e=ecc, i=inc, names=hashes,\n",
    "                                    energy=sim.calculate_energy())\n"
   ]
  },
  {
   "cell_type": "code",
   "execution_count": 7,
   "metadata": {},
   "outputs": [],
   "source": [
    "for _, v in sims.items():\n",
    "    seed = v[\"seed\"]\n",
    "    br_path = v[\"path\"] / f\"mercurius_data_reb_{seed}.h5\"\n",
    "\n",
    "    v[\"buffer_rebound\"] = data_io.DataIO(output_file_name=str(br_path), CONST_G=4 * np.pi **2., append=False)\n",
    "\n",
    "    sa = rebound.SimulationArchive(str(v[\"path\"] / \"mercurius_rebound_archive.bin\"))\n",
    "\n",
    "    v[\"buffer_rebound\"].initialize_buffer(sa[0].N)\n",
    "\n",
    "    for i in range(9800 if \"bad\" in v[\"label\"] else 0, len(sa)):\n",
    "        sim = sa[i]\n",
    "        sim.G = 4 * np.pi ** 2\n",
    "        store_hdf5_rebound(v[\"buffer_rebound\"], sim)\n",
    "\n",
    "    v[\"buffer_rebound\"].close()\n",
    "        "
   ]
  },
  {
   "cell_type": "code",
   "execution_count": 6,
   "metadata": {},
   "outputs": [],
   "source": [
    "for _, v in sims.items():\n",
    "    seed = v[\"seed\"]\n",
    "    br_path = v[\"path\"] / f\"mercurius_data_reb_{seed}.h5\"\n",
    "\n",
    "    sa = rebound.SimulationArchive(str(v[\"path\"] / \"mercurius_rebound_archive.bin\"))\n",
    "    _t = float('inf')\n",
    "    for i in range(len(sa)-1, -1, -1):\n",
    "        s = sa[i]\n",
    "        if s.t > _t:\n",
    "            print(v[\"label\"], i)\n",
    "            break\n",
    "        _t = s.t"
   ]
  },
  {
   "cell_type": "code",
   "execution_count": 5,
   "metadata": {},
   "outputs": [],
   "source": [
    "from h5py import File\n",
    "import gc\n",
    "\n",
    "for obj in gc.get_objects():   # Browse through ALL objects\n",
    "    if isinstance(obj, data_io.DataIO) or isinstance(obj, File):   # Just HDF5 files\n",
    "        try:\n",
    "            obj.close()\n",
    "        except:\n",
    "            pass # Was already closed"
   ]
  }
 ],
 "metadata": {
  "kernelspec": {
   "display_name": "Python 3 (ipykernel)",
   "language": "python",
   "name": "python3"
  },
  "language_info": {
   "codemirror_mode": {
    "name": "ipython",
    "version": 3
   },
   "file_extension": ".py",
   "mimetype": "text/x-python",
   "name": "python",
   "nbconvert_exporter": "python",
   "pygments_lexer": "ipython3",
   "version": "3.10.4"
  },
  "vscode": {
   "interpreter": {
    "hash": "ba05344f9019a867cd8f236f4037fbf6c101774b5b2d81ebfd8683f07c80fd93"
   }
  }
 },
 "nbformat": 4,
 "nbformat_minor": 2
}

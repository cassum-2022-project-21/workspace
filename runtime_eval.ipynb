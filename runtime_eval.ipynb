{
 "cells": [
  {
   "cell_type": "code",
   "execution_count": 5,
   "metadata": {},
   "outputs": [],
   "source": [
    "from pathlib import Path\n",
    "from util import NUMBER_REGEX\n",
    "import numpy as np\n",
    "\n",
    "simon_dir = \"sim/simon_simulations_20220714_1/\"\n",
    "simon_path = Path(simon_dir)"
   ]
  },
  {
   "cell_type": "code",
   "execution_count": 24,
   "metadata": {},
   "outputs": [
    {
     "name": "stdout",
     "output_type": "stream",
     "text": [
      "iopf_sim_DRAG_0.0_N_25_47220 drag_coefficient=0.0 n_particles=25 seed=47220\n",
      "\n",
      "iopf_sim_DRAG_1.0_N_25_47220 drag_coefficient=1.0 n_particles=25 seed=47220\n",
      "\n",
      "iopf_sim_DRAG_0.0_N_100_47220 drag_coefficient=0.0 n_particles=100 seed=47220\n",
      "\n",
      "iopf_sim_DRAG_1.0_N_100_47220 drag_coefficient=1.0 n_particles=100 seed=47220\n",
      "\n",
      "iopf_sim_DRAG_0.0_N_25_61392 drag_coefficient=0.0 n_particles=25 seed=61392\n",
      "\n",
      "iopf_sim_DRAG_1.0_N_25_61392 drag_coefficient=1.0 n_particles=25 seed=61392\n",
      "\n",
      "iopf_sim_DRAG_0.0_N_100_61392 drag_coefficient=0.0 n_particles=100 seed=61392\n",
      "\n",
      "iopf_sim_DRAG_1.0_N_100_61392 drag_coefficient=1.0 n_particles=100 seed=61392\n",
      "\n"
     ]
    }
   ],
   "source": [
    "sims = {}\n",
    "\n",
    "for sim_path in simon_path.glob(\"iopf*\"):\n",
    "    label = sim_path.name\n",
    "    slabel = label.split(\"_\")\n",
    "    drag_coefficient = float(slabel[slabel.index('DRAG')+1])\n",
    "    n_particles = int(slabel[slabel.index('N')+1])\n",
    "    seed = int(slabel[-1])\n",
    "\n",
    "    output_path = sim_path / \"output.txt\"\n",
    "    with open(output_path, \"r\") as output_file:\n",
    "        _t = 0\n",
    "        _sysT = 0\n",
    "        L = []\n",
    "        for line in output_file:\n",
    "            if line.startswith(\"t = \"):\n",
    "                t, N, sysT, *_ = map(float, NUMBER_REGEX.findall(line))\n",
    "\n",
    "                if sysT > _sysT:\n",
    "                    dt = t - _t\n",
    "                    dsysT = sysT - _sysT\n",
    "                    L.append((N, dt/sysT))\n",
    "\n",
    "                _t = t\n",
    "                _sysT = sysT\n",
    "    \n",
    "    sims[label] = {\n",
    "        \"label\": label,\n",
    "        \"drag_coefficient\": drag_coefficient,\n",
    "        \"n_particles\": n_particles,\n",
    "        \"seed\": seed,\n",
    "        \"path\": sim_path,\n",
    "        \"runtimes\": np.array(L)\n",
    "    }\n",
    "\n",
    "    print(f\"{label} {drag_coefficient=} {n_particles=} {seed=}\")\n",
    "    print()"
   ]
  },
  {
   "cell_type": "markdown",
   "metadata": {},
   "source": [
    "import matplotlib.pyplot as plt\n",
    "\n",
    "for k, v in Ls.items():\n",
    "    if \n",
    "    plt.scatter(v[:, 0], v[:, 1], label=k)\n",
    "\n",
    "plt.yscale(\"log\")\n",
    "plt.legend()\n",
    "plt.show()"
   ]
  }
 ],
 "metadata": {
  "kernelspec": {
   "display_name": "Python 3.10.4 ('cassum-2022-project-21')",
   "language": "python",
   "name": "python3"
  },
  "language_info": {
   "codemirror_mode": {
    "name": "ipython",
    "version": 3
   },
   "file_extension": ".py",
   "mimetype": "text/x-python",
   "name": "python",
   "nbconvert_exporter": "python",
   "pygments_lexer": "ipython3",
   "version": "3.10.4"
  },
  "orig_nbformat": 4,
  "vscode": {
   "interpreter": {
    "hash": "ba05344f9019a867cd8f236f4037fbf6c101774b5b2d81ebfd8683f07c80fd93"
   }
  }
 },
 "nbformat": 4,
 "nbformat_minor": 2
}

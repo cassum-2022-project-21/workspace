{
 "cells": [
  {
   "cell_type": "code",
   "execution_count": 1,
   "metadata": {},
   "outputs": [],
   "source": [
    "%reload_ext autoreload\n",
    "%autoreload 1\n",
    "\n",
    "%aimport simulation\n",
    "import simulation\n",
    "\n",
    "%aimport rebforces\n",
    "import rebforces"
   ]
  },
  {
   "cell_type": "code",
   "execution_count": 2,
   "metadata": {},
   "outputs": [],
   "source": [
    "sim = simulation.Simulation()"
   ]
  },
  {
   "cell_type": "code",
   "execution_count": 3,
   "metadata": {},
   "outputs": [],
   "source": [
    "sim.parse_arguments(\n",
    "    [\n",
    "        \"-t\", \"10.0\",\n",
    "        \"-d\", \"0.5\",\n",
    "        \"-n\", \"20\",\n",
    "        \"-c\", \"rebound\",\n",
    "        \"--a-in\", \"0.22\",\n",
    "        \"--a-out\", \"0.24\",\n",
    "        \"--std-i\", \"0\",\n",
    "        \"--std-e\", \"0.05\",\n",
    "        \"-m\", \"1.0\",\n",
    "        \"--rho\", \"3.0\",\n",
    "        \"--no-continue\"\n",
    "    ]\n",
    ")"
   ]
  },
  {
   "cell_type": "code",
   "execution_count": 4,
   "metadata": {},
   "outputs": [
    {
     "name": "stdout",
     "output_type": "stream",
     "text": [
      "Using rebound as the integrator...\n",
      "Namespace(seed=0, t_end=10.0, N_end=-1, N_enddelay=10000.0, store_dt=0.5, n_p=50, code='rebound', a_in=0.22, a_out=0.24, alpha=None, std_i=0.0, std_e=0.05, m_total=1.0, m_star=1.0, rho=3.0, ef=1.0, pm=0.0, pa=0.1, prh=10.0, prho=5.0, pa_rate=0.0, pa_beta='2_3', rebound_archive='rebound_archive_0.bin', reb_no_continue=True, C_d=0.0, velocity_file=None, density_file=None)\n"
     ]
    }
   ],
   "source": [
    "sim.init()"
   ]
  },
  {
   "cell_type": "code",
   "execution_count": 5,
   "metadata": {},
   "outputs": [
    {
     "name": "stdout",
     "output_type": "stream",
     "text": [
      "Creating equal-mass system...\n",
      "Adding the host star of 1.000000 Solar masses\n",
      "Adding N=50 planetesimals...\n"
     ]
    }
   ],
   "source": [
    "sim.ic_generate()"
   ]
  },
  {
   "cell_type": "code",
   "execution_count": 6,
   "metadata": {},
   "outputs": [],
   "source": [
    "import numpy as np\n",
    "from pathlib import Path\n",
    "\n",
    "profile_root = Path(\"../disk/calculated_profiles/\")\n",
    "profile_name = \"20220714_1\"\n",
    "profile = np.load(profile_root / profile_name / \"all_variables.npz\")"
   ]
  },
  {
   "cell_type": "code",
   "execution_count": 7,
   "metadata": {},
   "outputs": [
    {
     "name": "stdout",
     "output_type": "stream",
     "text": [
      "Start integration...\n",
      "t = 0.000000, N = 51\n",
      "A collision occurred Two particles collided (d < r1+r2)\n",
      "t = 0.284351, N = 50, dE/E = 8.885690e-06\n",
      "t = 0.500000, N = 50, dE/E = 8.885690e-06\n",
      "t = 1.000000, N = 50, dE/E = 8.885690e-06\n",
      "t = 1.500000, N = 50, dE/E = 8.885690e-06\n",
      "A collision occurred Two particles collided (d < r1+r2)\n",
      "t = 1.861705, N = 49, dE/E = 1.192707e-05\n",
      "set initial step id to  16\n",
      "t = 2.000000, N = 49, dE/E = 1.192707e-05\n",
      "t = 2.500000, N = 49, dE/E = 1.192707e-05\n",
      "A collision occurred Two particles collided (d < r1+r2)\n",
      "t = 2.537229, N = 48, dE/E = 1.115782e-04\n",
      "A collision occurred Two particles collided (d < r1+r2)\n",
      "t = 2.588795, N = 47, dE/E = 3.489088e-04\n",
      "t = 3.000000, N = 47, dE/E = 3.489088e-04\n",
      "A collision occurred Two particles collided (d < r1+r2)\n",
      "t = 3.083248, N = 46, dE/E = 5.361423e-04\n",
      "A collision occurred Two particles collided (d < r1+r2)\n",
      "t = 3.381905, N = 45, dE/E = 5.391135e-04\n",
      "t = 3.500000, N = 45, dE/E = 5.391135e-04\n",
      "A collision occurred Two particles collided (d < r1+r2)\n",
      "t = 3.522725, N = 44, dE/E = 8.105590e-04\n",
      "A collision occurred Two particles collided (d < r1+r2)\n",
      "t = 3.739206, N = 43, dE/E = 8.170416e-04\n",
      "t = 4.000000, N = 43, dE/E = 8.170416e-04\n",
      "t = 4.500000, N = 43, dE/E = 8.170416e-04\n",
      "t = 5.000000, N = 43, dE/E = 8.170416e-04\n",
      "A collision occurred Two particles collided (d < r1+r2)\n",
      "t = 5.072825, N = 42, dE/E = 8.180618e-04\n",
      "t = 5.500000, N = 42, dE/E = 8.180618e-04\n",
      "t = 6.000000, N = 42, dE/E = 8.180618e-04\n",
      "A collision occurred Two particles collided (d < r1+r2)\n",
      "t = 6.078700, N = 41, dE/E = 8.247645e-04\n",
      "t = 6.500000, N = 41, dE/E = 8.247645e-04\n",
      "t = 7.000000, N = 41, dE/E = 8.247645e-04\n",
      "t = 7.500000, N = 41, dE/E = 8.247645e-04\n",
      "A collision occurred Two particles collided (d < r1+r2)\n",
      "t = 7.703532, N = 40, dE/E = 8.460203e-04\n",
      "A collision occurred Two particles collided (d < r1+r2)\n",
      "t = 7.811014, N = 39, dE/E = 8.659335e-04\n",
      "t = 8.000000, N = 39, dE/E = 8.659335e-04\n",
      "t = 8.500000, N = 39, dE/E = 8.659335e-04\n",
      "t = 9.000000, N = 39, dE/E = 8.659335e-04\n",
      "A collision occurred Two particles collided (d < r1+r2)\n",
      "t = 9.135065, N = 38, dE/E = 9.586059e-04\n",
      "t = 9.500000, N = 38, dE/E = 9.586059e-04\n",
      "t = 10.000000, N = 38, dE/E = 9.586059e-04\n"
     ]
    }
   ],
   "source": [
    "rebforces.set_profiles(\n",
    "    len(profile[\"r\"]),\n",
    "    profile[\"r\"],\n",
    "    profile[\"velocity\"].T,\n",
    "    profile[\"rho_0\"],\n",
    "    profile[\"C_D\"]\n",
    ")\n",
    "\n",
    "sim.sim.additional_forces = rebforces.IOPF_drag_all\n",
    "sim.sim.force_is_velocity_dependent = 1\n",
    "\n",
    "sim.evolve_model()"
   ]
  }
 ],
 "metadata": {
  "kernelspec": {
   "display_name": "Python 3.10.4 ('cassum-2022-project-21')",
   "language": "python",
   "name": "python3"
  },
  "language_info": {
   "codemirror_mode": {
    "name": "ipython",
    "version": 3
   },
   "file_extension": ".py",
   "mimetype": "text/x-python",
   "name": "python",
   "nbconvert_exporter": "python",
   "pygments_lexer": "ipython3",
   "version": "3.10.4"
  },
  "orig_nbformat": 4,
  "vscode": {
   "interpreter": {
    "hash": "ba05344f9019a867cd8f236f4037fbf6c101774b5b2d81ebfd8683f07c80fd93"
   }
  }
 },
 "nbformat": 4,
 "nbformat_minor": 2
}

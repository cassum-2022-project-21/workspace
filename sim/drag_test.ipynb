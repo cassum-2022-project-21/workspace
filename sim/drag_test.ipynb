{
 "cells": [
  {
   "cell_type": "code",
   "execution_count": 1,
   "metadata": {},
   "outputs": [],
   "source": [
    "import rebound"
   ]
  },
  {
   "cell_type": "code",
   "execution_count": 2,
   "metadata": {},
   "outputs": [
    {
     "name": "stderr",
     "output_type": "stream",
     "text": [
      "/home/alchzh/cassum-2022-project-21/workspace/src/rebound/rebound/simulation.py:505: RuntimeWarning: You have to reset function pointers after creating a reb_simulation struct with a binary file.\n",
      "  warnings.warn(message, RuntimeWarning)\n"
     ]
    }
   ],
   "source": [
    "sim = rebound.Simulation(\"/home/alchzh/cassum-2022-project-21/workspace/sim/simon_simulations_20220613/iopf_sim_DRAG_1.0__ALPHA_-2_BETA_None_0/rebound_archive.bin\")"
   ]
  },
  {
   "cell_type": "code",
   "execution_count": 3,
   "metadata": {},
   "outputs": [
    {
     "name": "stderr",
     "output_type": "stream",
     "text": [
      "/home/alchzh/cassum-2022-project-21/workspace/src/rebound/rebound/simulation.py:505: RuntimeWarning: You have to reset function pointers after creating a reb_simulation struct with a binary file.\n",
      "  warnings.warn(message, RuntimeWarning)\n"
     ]
    },
    {
     "name": "stdout",
     "output_type": "stream",
     "text": [
      "0.23600328174987403\n",
      "0.23598427014111334\n",
      "0.23597036755109194\n",
      "0.23596139637376037\n",
      "0.23595732289630628\n",
      "0.23595944642754452\n",
      "0.23596731089163994\n",
      "0.23597994118748572\n",
      "0.23602015132165152\n",
      "0.23607708237060612\n",
      "0.23613281030604344\n",
      "0.23607003783306982\n",
      "0.23530414893446305\n",
      "0.23524734122434843\n",
      "0.2353736727453296\n",
      "0.23537301494278132\n",
      "0.23520881318555173\n",
      "0.23613134493124627\n"
     ]
    },
    {
     "ename": "RuntimeError",
     "evalue": "Index out of range.",
     "output_type": "error",
     "traceback": [
      "\u001b[0;31m---------------------------------------------------------------------------\u001b[0m",
      "\u001b[0;31mRuntimeError\u001b[0m                              Traceback (most recent call last)",
      "\u001b[1;32m/home/alchzh/cassum-2022-project-21/workspace/sim/drag_test.ipynb Cell 3'\u001b[0m in \u001b[0;36m<cell line: 4>\u001b[0;34m()\u001b[0m\n\u001b[1;32m      <a href='vscode-notebook-cell://ssh-remote%2Bhome/home/alchzh/cassum-2022-project-21/workspace/sim/drag_test.ipynb#ch0000002vscode-remote?line=1'>2</a>\u001b[0m \u001b[39mfrom\u001b[39;00m \u001b[39mitertools\u001b[39;00m \u001b[39mimport\u001b[39;00m count\n\u001b[1;32m      <a href='vscode-notebook-cell://ssh-remote%2Bhome/home/alchzh/cassum-2022-project-21/workspace/sim/drag_test.ipynb#ch0000002vscode-remote?line=3'>4</a>\u001b[0m \u001b[39mfor\u001b[39;00m i \u001b[39min\u001b[39;00m count():\n\u001b[0;32m----> <a href='vscode-notebook-cell://ssh-remote%2Bhome/home/alchzh/cassum-2022-project-21/workspace/sim/drag_test.ipynb#ch0000002vscode-remote?line=4'>5</a>\u001b[0m     sim \u001b[39m=\u001b[39m rebound\u001b[39m.\u001b[39;49mSimulation(\u001b[39m\"\u001b[39;49m\u001b[39m/home/alchzh/cassum-2022-project-21/workspace/sim/simon_simulations_20220613/iopf_sim_DRAG_1.0__ALPHA_-2_BETA_None_0/rebound_archive.bin\u001b[39;49m\u001b[39m\"\u001b[39;49m, i)\n\u001b[1;32m      <a href='vscode-notebook-cell://ssh-remote%2Bhome/home/alchzh/cassum-2022-project-21/workspace/sim/drag_test.ipynb#ch0000002vscode-remote?line=5'>6</a>\u001b[0m     p \u001b[39m=\u001b[39m sim\u001b[39m.\u001b[39mparticles[\u001b[39m1\u001b[39m]\n\u001b[1;32m      <a href='vscode-notebook-cell://ssh-remote%2Bhome/home/alchzh/cassum-2022-project-21/workspace/sim/drag_test.ipynb#ch0000002vscode-remote?line=6'>7</a>\u001b[0m     \u001b[39mprint\u001b[39m(p\u001b[39m.\u001b[39ma)\n",
      "File \u001b[0;32m~/cassum-2022-project-21/workspace/src/rebound/rebound/simulation.py:502\u001b[0m, in \u001b[0;36mSimulation.__new__\u001b[0;34m(cls, *args, **kw)\u001b[0m\n\u001b[1;32m    500\u001b[0m \u001b[39mif\u001b[39;00m w\u001b[39m.\u001b[39mvalue \u001b[39m&\u001b[39m value:\n\u001b[1;32m    501\u001b[0m     \u001b[39mif\u001b[39;00m majorerror:\n\u001b[0;32m--> 502\u001b[0m         \u001b[39mraise\u001b[39;00m \u001b[39mRuntimeError\u001b[39;00m(message)\n\u001b[1;32m    503\u001b[0m     \u001b[39melse\u001b[39;00m:  \n\u001b[1;32m    504\u001b[0m         \u001b[39m# Just a warning\u001b[39;00m\n\u001b[1;32m    505\u001b[0m         warnings\u001b[39m.\u001b[39mwarn(message, \u001b[39mRuntimeWarning\u001b[39;00m)\n",
      "\u001b[0;31mRuntimeError\u001b[0m: Index out of range."
     ]
    }
   ],
   "source": [
    "from numpy import sqrt\n",
    "from itertools import count\n",
    "\n",
    "for i in count():\n",
    "    sim = rebound.Simulation(\"/home/alchzh/cassum-2022-project-21/workspace/sim/simon_simulations_20220613/iopf_sim_DRAG_1.0__ALPHA_-2_BETA_None_0/rebound_archive.bin\", i)\n",
    "    p = sim.particles[1]\n",
    "    print(p.a)"
   ]
  },
  {
   "cell_type": "code",
   "execution_count": 4,
   "metadata": {},
   "outputs": [
    {
     "name": "stderr",
     "output_type": "stream",
     "text": [
      "/home/alchzh/cassum-2022-project-21/workspace/src/rebound/rebound/simulation.py:505: RuntimeWarning: You have to reset function pointers after creating a reb_simulation struct with a binary file.\n",
      "  warnings.warn(message, RuntimeWarning)\n"
     ]
    },
    {
     "name": "stdout",
     "output_type": "stream",
     "text": [
      "t=1.000000, p1: x=-0.148, y=-0.206, r=0.254 AU, vx_gas=10.129, p.vx=10.649, vy_gas=-7.263, p.vy=-5.534, v_gas=12.464, v_rel=1.806, F_d=1.019e-10, F_G=7.294e-04, P_d=2.274632e-10\n",
      "t=1.000000, p2: x=0.135, y=0.140, r=0.194 AU, vx_gas=-10.264, p.vx=-9.550, vy_gas=9.913, p.vy=12.132, v_gas=14.270, v_rel=2.331, F_d=2.095e-10, F_G=1.897e-03, P_d=-1.807047e-09\n",
      "t=2.000000, p1: x=-0.251, y=0.100, r=0.270 AU, vx_gas=-4.487, p.vx=-4.869, vy_gas=-11.213, p.vy=-10.063, v_gas=12.077, v_rel=1.211, F_d=4.194e-11, F_G=6.429e-04, P_d=3.361659e-10\n",
      "t=2.000000, p2: x=0.023, y=-0.218, r=0.219 AU, vx_gas=13.371, p.vx=13.201, vy_gas=1.407, p.vy=4.306, v_gas=13.445, v_rel=2.904, F_d=3.741e-10, F_G=1.495e-03, P_d=-1.318732e-09\n",
      "t=3.000000, p1: x=0.084, y=0.199, r=0.216 AU, vx_gas=-12.459, p.vx=-12.073, vy_gas=5.257, p.vy=7.194, v_gas=13.523, v_rel=1.975, F_d=1.287e-10, F_G=1.002e-03, P_d=-6.038842e-10\n",
      "t=3.000000, p2: x=-0.264, y=-0.099, r=0.282 AU, vx_gas=4.128, p.vx=4.640, vy_gas=-11.071, p.vy=-9.511, v_gas=11.815, v_rel=1.641, F_d=9.620e-11, F_G=8.992e-04, P_d=7.302062e-10\n",
      "t=4.000000, p1: x=0.095, y=-0.193, r=0.215 AU, vx_gas=12.187, p.vx=11.765, vy_gas=5.981, p.vy=7.873, v_gas=13.576, v_rel=1.938, F_d=1.228e-10, F_G=1.018e-03, P_d=-6.288783e-10\n",
      "t=4.000000, p2: x=-0.205, y=0.174, r=0.269 AU, vx_gas=-7.828, p.vx=-8.590, vy_gas=-9.223, p.vy=-7.194, v_gas=12.097, v_rel=2.168, F_d=1.791e-10, F_G=9.885e-04, P_d=6.649337e-10\n",
      "t=5.000000, p1: x=-0.246, y=-0.110, r=0.269 AU, vx_gas=4.948, p.vx=5.362, vy_gas=-11.037, p.vy=-9.855, v_gas=12.096, v_rel=1.253, F_d=4.509e-11, F_G=6.470e-04, P_d=3.393116e-10\n",
      "t=5.000000, p2: x=0.131, y=0.145, r=0.195 AU, vx_gas=-10.585, p.vx=-9.873, vy_gas=9.514, p.vy=11.783, v_gas=14.232, v_rel=2.378, F_d=2.194e-10, F_G=1.877e-03, P_d=-1.817911e-09\n",
      "t=6.000000, p1: x=-0.160, y=0.199, r=0.256 AU, vx_gas=-9.666, p.vx=-10.202, vy_gas=-7.791, p.vy=-6.121, v_gas=12.415, v_rel=1.754, F_d=9.503e-11, F_G=7.180e-04, P_d=2.578143e-10\n",
      "t=6.000000, p2: x=0.027, y=-0.216, r=0.218 AU, vx_gas=13.369, p.vx=13.172, vy_gas=1.670, p.vy=4.561, v_gas=13.473, v_rel=2.898, F_d=3.709e-10, F_G=1.507e-03, P_d=-1.355431e-09\n",
      "t=7.000000, p1: x=0.188, y=0.068, r=0.200 AU, vx_gas=-4.771, p.vx=-4.441, vy_gas=13.240, p.vy=14.427, v_gas=14.074, v_rel=1.232, F_d=4.556e-11, F_G=1.175e-03, P_d=-5.790479e-10\n",
      "t=7.000000, p2: x=-0.263, y=-0.101, r=0.282 AU, vx_gas=4.233, p.vx=4.757, vy_gas=-11.037, p.vy=-9.467, v_gas=11.821, v_rel=1.655, F_d=9.789e-11, F_G=9.009e-04, P_d=7.318413e-10\n",
      "t=8.000000, p1: x=-0.056, y=-0.232, r=0.239 AU, vx_gas=12.489, p.vx=12.743, vy_gas=-3.002, p.vy=-0.961, v_gas=12.845, v_rel=2.057, F_d=1.442e-10, F_G=8.227e-04, P_d=-8.946101e-11\n",
      "t=8.000000, p2: x=-0.208, y=0.172, r=0.270 AU, vx_gas=-7.713, p.vx=-8.472, vy_gas=-9.304, p.vy=-7.293, v_gas=12.086, v_rel=2.150, F_d=1.757e-10, F_G=9.846e-04, P_d=6.733130e-10\n",
      "t=10.000000, p1: x=-0.013, y=0.232, r=0.232 AU, vx_gas=-13.011, p.vx=-13.078, vy_gas=-0.751, p.vy=1.345, v_gas=13.032, v_rel=2.097, F_d=1.549e-10, F_G=8.707e-04, P_d=-2.736981e-10\n",
      "t=10.000000, p2: x=0.035, y=-0.213, r=0.216 AU, vx_gas=13.350, p.vx=13.100, vy_gas=2.196, p.vy=5.071, v_gas=13.529, v_rel=2.886, F_d=3.640e-10, F_G=1.532e-03, P_d=-1.426078e-09\n",
      "t=12.000000, p1: x=-0.201, y=-0.169, r=0.262 AU, vx_gas=7.893, p.vx=8.437, vy_gas=-9.382, p.vy=-7.924, v_gas=12.260, v_rel=1.556, F_d=7.221e-11, F_G=6.828e-04, P_d=3.228331e-10\n",
      "t=12.000000, p2: x=-0.218, y=0.163, r=0.272 AU, vx_gas=-7.192, p.vx=-7.933, vy_gas=-9.651, p.vy=-7.718, v_gas=12.036, v_rel=2.070, F_d=1.611e-10, F_G=9.684e-04, P_d=7.036208e-10\n",
      "t=14.000000, p1: x=0.158, y=0.131, r=0.205 AU, vx_gas=-8.864, p.vx=-8.352, vy_gas=10.708, p.vy=12.188, v_gas=13.901, v_rel=1.566, F_d=7.584e-11, F_G=1.119e-03, P_d=-6.664872e-10\n",
      "t=14.000000, p2: x=0.063, y=-0.200, r=0.210 AU, vx_gas=13.094, p.vx=12.665, vy_gas=4.123, p.vy=6.903, v_gas=13.727, v_rel=2.813, F_d=3.340e-10, F_G=1.624e-03, P_d=-1.634099e-09\n",
      "t=17.000000, p1: x=-0.039, y=0.233, r=0.236 AU, vx_gas=-12.733, p.vx=-12.917, vy_gas=-2.149, p.vy=-0.077, v_gas=12.913, v_rel=2.080, F_d=1.499e-10, F_G=8.401e-04, P_d=-1.603108e-10\n",
      "t=17.000000, p2: x=0.072, y=0.195, r=0.208 AU, vx_gas=-12.931, p.vx=-12.447, vy_gas=4.794, p.vy=7.528, v_gas=13.791, v_rel=2.776, F_d=3.217e-10, F_G=1.655e-03, P_d=-1.687756e-09\n",
      "t=20.000000, p1: x=-0.262, y=0.070, r=0.272 AU, vx_gas=-3.114, p.vx=-3.383, vy_gas=-11.634, p.vy=-10.556, v_gas=12.044, v_rel=1.111, F_d=3.506e-11, F_G=6.358e-04, P_d=3.305069e-10\n",
      "t=20.000000, p2: x=-0.222, y=0.159, r=0.273 AU, vx_gas=-6.992, p.vx=-7.730, vy_gas=-9.766, p.vy=-7.867, v_gas=12.011, v_rel=2.037, F_d=1.551e-10, F_G=9.602e-04, P_d=7.031798e-10\n",
      "t=24.000000, p1: x=-0.273, y=-0.005, r=0.273 AU, vx_gas=0.230, p.vx=0.263, vy_gas=-12.004, p.vy=-10.998, v_gas=12.006, v_rel=1.007, F_d=2.855e-11, F_G=6.279e-04, P_d=3.135220e-10\n",
      "t=24.000000, p2: x=-0.101, y=0.225, r=0.247 AU, vx_gas=-11.522, p.vx=-12.096, vy_gas=-5.199, p.vy=-2.543, v_gas=12.641, v_rel=2.717, F_d=3.181e-10, F_G=1.178e-03, P_d=-2.167845e-11\n",
      "t=29.000000, p1: x=-0.150, y=0.205, r=0.254 AU, vx_gas=-10.049, p.vx=-10.571, vy_gas=-7.372, p.vy=-5.637, v_gas=12.463, v_rel=1.812, F_d=1.026e-10, F_G=7.292e-04, P_d=2.409516e-10\n",
      "t=29.000000, p2: x=0.096, y=-0.180, r=0.204 AU, vx_gas=12.298, p.vx=11.688, vy_gas=6.566, p.vy=9.144, v_gas=13.941, v_rel=2.649, F_d=2.857e-10, F_G=1.728e-03, P_d=-1.772570e-09\n",
      "t=35.000000, p1: x=0.063, y=-0.210, r=0.219 AU, vx_gas=12.881, p.vx=12.583, vy_gas=3.867, p.vy=5.897, v_gas=13.449, v_rel=2.052, F_d=1.408e-10, F_G=9.801e-04, P_d=-5.640875e-10\n",
      "t=35.000000, p2: x=-0.120, y=0.220, r=0.251 AU, vx_gas=-11.013, p.vx=-11.655, vy_gas=-5.998, p.vy=-3.431, v_gas=12.540, v_rel=2.646, F_d=2.950e-10, F_G=1.141e-03, P_d=1.470250e-10\n",
      "t=42.000000, p1: x=0.032, y=0.222, r=0.224 AU, vx_gas=-13.150, p.vx=-12.983, vy_gas=1.892, p.vy=3.994, v_gas=13.285, v_rel=2.109, F_d=1.530e-10, F_G=9.345e-04, P_d=-4.515349e-10\n",
      "t=42.000000, p2: x=-0.214, y=0.167, r=0.271 AU, vx_gas=-7.406, p.vx=-8.160, vy_gas=-9.505, p.vy=-7.546, v_gas=12.049, v_rel=2.099, F_d=1.661e-10, F_G=9.726e-04, P_d=6.822941e-10\n",
      "t=50.000000, p1: x=0.169, y=0.112, r=0.203 AU, vx_gas=-7.695, p.vx=-7.199, vy_gas=11.646, p.vy=13.028, v_gas=13.958, v_rel=1.468, F_d=6.593e-11, F_G=1.138e-03, P_d=-6.483774e-10\n",
      "t=50.000000, p2: x=-0.152, y=0.207, r=0.257 AU, vx_gas=-9.985, p.vx=-10.730, vy_gas=-7.322, p.vy=-4.925, v_gas=12.382, v_rel=2.510, F_d=2.562e-10, F_G=1.085e-03, P_d=3.896676e-10\n"
     ]
    },
    {
     "data": {
      "image/png": "[encoded data removed]",
      "text/plain": [
       "<Figure size 432x288 with 1 Axes>"
      ]
     },
     "metadata": {
      "needs_background": "light"
     },
     "output_type": "display_data"
    }
   ],
   "source": [
    "import rebound\n",
    "import numpy as np\n",
    "from amuse.units import units\n",
    "from scipy.interpolate import interp1d\n",
    "from itertools import count \n",
    "from numpy import sqrt\n",
    "\n",
    "velocity_file = \"../disk/velocity.txt\"\n",
    "density_file = \"../disk/midplane_density_2.txt\"\n",
    "\n",
    "C_d = 1.0\n",
    "G = 4 * np.pi * np.pi\n",
    "\n",
    "r, vt_gas_cms, vr_gas_cms = np.loadtxt(velocity_file).T\n",
    "vt_gas = (vt_gas_cms | (units.cm / units.s)).value_in(units.AU / units.yr)\n",
    "vr_gas = (vr_gas_cms | (units.cm / units.s)).value_in(units.AU / units.yr)\n",
    "\n",
    "_, rho_0_cms = np.loadtxt(density_file).T\n",
    "rho_0 = (rho_0_cms | (units.g / units.cm**3)).value_in(units.MSun / (units.AU**3))\n",
    "\n",
    "interpf = interp1d(r, np.stack([vt_gas, vr_gas, rho_0]))\n",
    "\n",
    "def mag_dir_2d(x, y):\n",
    "    r = np.sqrt(x*x + y*y)\n",
    "    return r, x / r, y / r\n",
    "    \n",
    "\n",
    "xl_p = []\n",
    "yl_p = []\n",
    "vxl_p = []\n",
    "vyl_p = []\n",
    "vxl_gas = []\n",
    "vyl_gas = []\n",
    "\n",
    "for i in count():\n",
    "    try:\n",
    "        sim = rebound.Simulation(\"/home/alchzh/cassum-2022-project-21/workspace/sim/simon_simulations_20220613/iopf_sim_DRAG_1.0__ALPHA_-2_BETA_None_0/rebound_archive.bin\", i)\n",
    "    except RuntimeError:\n",
    "        break\n",
    "\n",
    "    sun = sim.particles[0]\n",
    "    # print(f\"Sun: v_x={sun.vx}, v_y={sun.vy}\")\n",
    "    for i, p in enumerate(sim.particles[1:]):\n",
    "        x = p.x\n",
    "        y = p.y\n",
    "        # z = p.z\n",
    "\n",
    "        _r, ux, uy = mag_dir_2d(x, y)\n",
    "\n",
    "        _vt_gas, _vr_gas, _rho_0 = interpf(_r)\n",
    "\n",
    "        vx_gas = ux * _vr_gas - uy * _vt_gas\n",
    "        vy_gas = uy * _vr_gas + ux * _vt_gas\n",
    "\n",
    "        vx_rel = vx_gas - p.vx\n",
    "        vy_rel = vy_gas - p.vy\n",
    "\n",
    "        v_rel, ux_rel, uy_rel = mag_dir_2d(vx_rel, vy_rel)\n",
    "\n",
    "        A = np.pi * p.r * p.r\n",
    "        F_d = 0.5 * _rho_0 * v_rel * v_rel * C_d * A\n",
    "\n",
    "        # p.ax += F_d * ux_rel\n",
    "        # p.ay += F_d * uy_rel\n",
    "\n",
    "        print(f\"t={sim.t:f}, p{i+1}: {x=:.3f}, {y=:.3f}, r={_r:.3f} AU, {vx_gas=:.3f}, {p.vx=:.3f}, {vy_gas=:.3f}, {p.vy=:.3f}, v_gas={sqrt(vx_gas*vx_gas + vy_gas*vy_gas):.3f}, v_rel={v_rel:.3f}, F_d={F_d:.3e}, F_G={G * p.m * sun.m / (_r * _r):.3e}, P_d={F_d * ux_rel * p.vx + F_d * uy_rel * p.vy:3e}\")        \n",
    "        \n",
    "        xl_p.append(p.x)\n",
    "        yl_p.append(p.y)\n",
    "        vxl_p.append(p.vx)\n",
    "        vyl_p.append(p.vy)\n",
    "        vxl_gas.append(vx_gas)\n",
    "        vyl_gas.append(vy_gas)\n",
    "\n",
    "import matplotlib.pyplot as plt\n",
    "\n",
    "# plt.quiver(xl_p, yl_p, vxl_p, vyl_p, color=\"green\", width=0.005)\n",
    "# plt.quiver(xl_p, yl_p, vxl_gas, vyl_gas, color=\"blue\", width=0.005)\n",
    "\n",
    "# plt.quiver(xl_p, yl_p, vxl_p, vyl_p, color=\"green\", width=0.005)\n",
    "plt.quiver(xl_p, yl_p, np.array(vxl_gas) - np.array(vxl_p), np.array(vyl_gas) - np.array(vyl_p), color=\"red\", width=0.005)\n",
    "plt.gca().set_aspect('equal')\n",
    "plt.savefig(\"relative_velocity.png\", facecolor=\"white\")\n"
   ]
  },
  {
   "cell_type": "code",
   "execution_count": 7,
   "metadata": {},
   "outputs": [
    {
     "name": "stdout",
     "output_type": "stream",
     "text": [
      "The autoreload extension is already loaded. To reload it, use:\n",
      "  %reload_ext autoreload\n"
     ]
    }
   ],
   "source": [
    "%load_ext autoreload\n",
    "%autoreload 1\n",
    "\n",
    "import rebound\n",
    "import ctypes\n",
    "%aimport c_forces\n",
    "import numpy as np\n",
    "from amuse.units import units"
   ]
  },
  {
   "cell_type": "code",
   "execution_count": 8,
   "metadata": {},
   "outputs": [],
   "source": [
    "velocity_file = \"../disk/velocity.txt\"\n",
    "density_file = \"../disk/midplane_density_2.txt\"\n",
    "\n",
    "r, vt_gas_cms, vr_gas_cms = np.loadtxt(velocity_file).T\n",
    "vt_gas = (vt_gas_cms | (units.cm / units.s)).value_in(units.AU / units.yr)\n",
    "vr_gas = (vr_gas_cms | (units.cm / units.s)).value_in(units.AU / units.yr)\n",
    "\n",
    "_, rho_0_cms = np.loadtxt(density_file).T\n",
    "rho_0 = (rho_0_cms | (units.g / units.cm**3)).value_in(units.MSun / (units.AU**3))"
   ]
  },
  {
   "cell_type": "code",
   "execution_count": 9,
   "metadata": {},
   "outputs": [],
   "source": [
    "c_forces.set_profiles(r, [vt_gas, vr_gas], rho_0)"
   ]
  },
  {
   "cell_type": "code",
   "execution_count": 10,
   "metadata": {},
   "outputs": [
    {
     "name": "stdout",
     "output_type": "stream",
     "text": [
      "352.93914463653846\n",
      "nan\n",
      "352.93914463653846\n"
     ]
    },
    {
     "name": "stderr",
     "output_type": "stream",
     "text": [
      "/home/alchzh/cassum-2022-project-21/workspace/src/rebound/rebound/simulation.py:505: RuntimeWarning: You have to reset function pointers after creating a reb_simulation struct with a binary file.\n",
      "  warnings.warn(message, RuntimeWarning)\n"
     ]
    }
   ],
   "source": [
    "sim = rebound.Simulation(\"/home/alchzh/cassum-2022-project-21/workspace/sim/simon_simulations_20220613/iopf_sim_DRAG_1.0__ALPHA_-2_BETA_None_0/rebound_archive.bin\", -1)\n",
    "print(sim.particles[2].ax)\n",
    "print(c_forces.IOPF_drag_force(sim.particles[2]))\n",
    "print(sim.particles[2].ax)"
   ]
  },
  {
   "cell_type": "code",
   "execution_count": 15,
   "metadata": {},
   "outputs": [
    {
     "name": "stdout",
     "output_type": "stream",
     "text": [
      "[0.02, 0.02057958, 0.021175960000000001, 0.021789630000000001, 0.022421070000000001, 0.023070819999999999, 0.023739389999999999, 0.024427339999999999, 0.025135230000000001, 0.025863629999999999, 0.02661314, 0.02738436, 0.028177939999999999, 0.028994519999999999, 0.029834759999999998, 0.030699339999999999, 0.031588989999999997, 0.032504409999999997, 0.033446360000000001, 0.034415609999999999, 0.035412949999999999, 0.036439190000000003, 0.037495170000000001, 0.038581749999999998, 0.039699819999999997, 0.040850289999999997, 0.042034099999999998, 0.043252220000000001, 0.044505629999999997, 0.045795370000000002, 0.047122490000000003, 0.048488059999999999, 0.04989321, 0.051339070000000001, 0.05282684, 0.054357719999999998, 0.055932959999999997, 0.057553859999999998, 0.059221719999999999, 0.06093792, 0.06270386, 0.064520969999999997, 0.066390729999999995, 0.068314689999999997, 0.070294389999999998, 0.072331469999999995, 0.074427579999999993, 0.076584429999999995, 0.078803789999999999, 0.08108746, 0.083437310000000001, 0.085855260000000003, 0.088343279999999996, 0.090903399999999995, 0.093537709999999996, 0.096248360000000005, 0.099037570000000005, 0.1019076, 0.1048608, 0.1078996, 0.1110264, 0.1142439, 0.1175546, 0.1209612, 0.1244666, 0.12807350000000001, 0.13178500000000001, 0.135604, 0.13953370000000001, 0.14357729999999999, 0.14773810000000001, 0.1520194, 0.1564248, 0.16095789999999999, 0.1656223, 0.17042189999999999, 0.17536060000000001, 0.1804424, 0.18567149999999999, 0.1910521, 0.19658870000000001, 0.20228570000000001, 0.20814779999999999, 0.2141797, 0.22038650000000001, 0.22677310000000001, 0.23334479999999999, 0.24010699999999999, 0.24706510000000001, 0.25422479999999997, 0.26159209999999999, 0.26917279999999999, 0.27697319999999997, 0.28499970000000002, 0.29325879999999999, 0.3017572, 0.3105019, 0.31950000000000001, 0.32875880000000002, 0.33828599999999998, 0.34808929999999999, 0.35817660000000001, 0.3685563, 0.37923679999999999, 0.39022679999999998, 0.40153519999999998, 0.41317140000000002, 0.42514479999999999, 0.4374652, 0.4501426, 0.46318740000000003, 0.47661019999999998, 0.49042200000000002, 0.50463400000000003, 0.51925790000000005, 0.53430560000000005, 0.54978939999999998, 0.5657219, 0.58211599999999997, 0.59898530000000005, 0.61634339999999999, 0.63420460000000001, 0.65258329999999998, 0.6714947, 0.69095410000000002, 0.71097739999999998, 0.73158100000000004, 0.75278160000000005, 0.77459670000000003, 0.79704390000000003, 0.82014160000000003, 0.84390869999999996, 0.86836449999999998, 0.89352900000000002, 0.91942279999999998, 0.94606690000000004, 0.97348319999999999, 1.0016940000000001, 1.0307219999999999, 1.060592, 1.0913269999999999, 1.1229530000000001, 1.1554949999999999, 1.1889799999999999, 1.223436, 1.2588900000000001, 1.295372, 1.332911, 1.3715379999999999, 1.411284, 1.4521820000000001, 1.494265, 1.5375669999999999, 1.582125, 1.627974, 1.6751510000000001, 1.7236959999999999, 1.773647, 1.8250459999999999, 1.877934, 1.932356, 1.988354, 2.0459749999999999, 2.1052650000000002, 2.166274, 2.2290510000000001, 2.293647, 2.3601160000000001, 2.4285100000000002, 2.4988860000000002, 2.5713020000000002, 2.6458159999999999, 2.7224900000000001, 2.8013859999999999, 2.882568, 2.9661019999999998, 3.0520580000000002, 3.140504, 3.2315130000000001, 3.3251599999999999, 3.4215209999999998, 3.5206740000000001, 3.6227, 3.7276829999999999, 3.8357079999999999, 3.9468640000000001, 4.0612409999999999, 4.1789329999999998, 4.3000350000000003, 4.4246470000000002, 4.5528700000000004, 4.6848080000000003, 4.8205710000000002, 4.960267, 5.104012, 5.2519220000000004, 5.4041189999999997, 5.5607259999999998, 5.7218710000000002, 5.8876869999999997, 6.0583070000000001, 6.2338719999999999, 6.4145250000000003, 6.6004129999999996, 6.7916879999999997, 6.9885060000000001, 7.1910270000000001, 7.3994179999999998, 7.6138469999999998, 7.8344899999999997, 8.0615279999999991, 8.2951449999999998, 8.5355319999999999, 8.7828850000000003, 9.0374060000000007, 9.2993030000000001, 9.5687890000000007, 9.8460850000000004, 10.13142, 10.42502, 10.727130000000001, 11.037990000000001, 11.357860000000001, 11.687010000000001, 12.025690000000001, 12.374180000000001, 12.73277, 13.101760000000001, 13.481439999999999, 13.872120000000001, 14.27412, 14.68778, 15.11342, 15.55139, 16.00206, 16.465789999999998, 16.94295, 17.433949999999999, 17.939170000000001, 18.459029999999998, 18.993960000000001, 19.54439, 20.110769999999999, 20.693570000000001, 21.29325, 21.910309999999999, 22.545259999999999, 23.198599999999999, 23.87088, 24.562639999999998, 25.274439999999998, 26.006879999999999, 26.760539999999999, 27.53604, 28.334009999999999, 29.155110000000001, 30.0]\n"
     ]
    }
   ],
   "source": [
    "print(list(r))"
   ]
  },
  {
   "cell_type": "markdown",
   "metadata": {},
   "source": []
  },
  {
   "cell_type": "code",
   "execution_count": 1,
   "metadata": {},
   "outputs": [],
   "source": [
    "import matplotlib.pyplot as plt"
   ]
  },
  {
   "cell_type": "code",
   "execution_count": 2,
   "metadata": {},
   "outputs": [],
   "source": [
    "scales = [\"0.90\", \"0.95\", \"0.99\", \"1.00\", \"1.01\", \"1.05\", \"1.10\"]"
   ]
  },
  {
   "cell_type": "code",
   "execution_count": 56,
   "metadata": {},
   "outputs": [
    {
     "name": "stdout",
     "output_type": "stream",
     "text": [
      "Finished 0.90\n",
      "Finished 0.95\n",
      "Finished 0.99\n",
      "Finished 1.00\n",
      "Finished 1.01\n",
      "Finished 1.05\n",
      "Finished 1.10\n"
     ]
    },
    {
     "data": {
      "text/plain": [
       "<matplotlib.legend.Legend at 0x7f6ad68b9330>"
      ]
     },
     "execution_count": 56,
     "metadata": {},
     "output_type": "execute_result"
    },
    {
     "data": {
      "image/png": "[encoded data removed]",
      "text/plain": [
       "<Figure size 432x432 with 1 Axes>"
      ]
     },
     "metadata": {
      "needs_background": "light"
     },
     "output_type": "display_data"
    }
   ],
   "source": [
    "import re\n",
    "\n",
    "fig, axs = plt.subplots(1, 1, figsize=(6, 6))\n",
    "for scale in scales:\n",
    "    with open(f\"rebforces/test/output2-{scale}.txt\", \"r\") as f:\n",
    "        tn = []\n",
    "        an = []\n",
    "        Pn = []\n",
    "        dEn = []\n",
    "        for l in f.read().split(\"\\n\\n\"):\n",
    "            if not l:\n",
    "                break\n",
    "            d = re.split(r\", |=|\\n|\\s\", l)\n",
    "            t = float(d[1])\n",
    "            a = float(d[-5])\n",
    "            P = float(d[-1])\n",
    "            dE = float(d[3])\n",
    "            tn.append(t)\n",
    "            an.append(a)\n",
    "            Pn.append(P)\n",
    "            dEn.append(dE)\n",
    "            if t > 20000:\n",
    "                print(f\"Finished {scale}\")\n",
    "                break\n",
    "        axs.plot(tn, an, label=f\"$k = {scale}$\")\n",
    "\n",
    "axs.set_title(\"Semimajor axis evolution for scaled Keplerian velocity gas drag\")\n",
    "axs.set_ylabel(\"$a$ [AU]\")\n",
    "axs.set_xlabel(\"$t$ [yr]\")\n",
    "axs.legend()"
   ]
  },
  {
   "cell_type": "markdown",
   "metadata": {},
   "source": [
    "The total mechanical energy of the orbit is\n",
    "$$E = K + U = \\frac{1}{2}mv^2 - \\frac{GMm}{a} = -\\frac{GMm}{2a}$$\n",
    "The non-conservative drag force $F_d$ does work\n",
    "$$dE = F_d \\cdot ds = F_d v dt = F_d \\sqrt{\\frac{GM}{a}} dt$$\n",
    "$$\\frac{dE}{dt} = F_d \\sqrt{\\frac{GM}{a}}$$\n",
    "$$\\frac{dE}{da} = \\frac{GMm}{2 a^2}$$\n",
    "$$\\frac{da}{dt} = \\frac{2 F_d}{m} \\sqrt{\\frac{a^3}{GM}}$$\n",
    "\n",
    "Assuming the force is small and $a$ is approximately constant, over half an orbital period\n",
    "$$h = \\pi \\sqrt{\\frac{a^3}{GM}}$$\n",
    "$$\\Delta a = h \\cdot \\frac{da}{dt} = \\frac{2 \\pi F_d a^3}{GMm}$$\n",
    "\n",
    "We apply a drag force of magnitude\n",
    "$$F_d = \\frac{1}{2} C_d \\pi r^2 \\rho_{gas} {v_{rel}}^2 $$\n",
    "The relative velocity depends on $k$ as\n",
    "$$v_{rel} = (k-1)v_{kep} = (k-1) \\sqrt{\\frac{G M}{a}}$$\n",
    "$$F_d(a) = \\frac{1}{2} C_d \\pi r^2 \\rho_{gas} (k-1)^2\\frac{G M}{a}$$\n",
    "\n",
    "In AU/solar mass/sidereal year units:\n",
    "$$G = 4 \\pi^2$$\n",
    "$$M = 1$$\n",
    "$$m = 3\\times 10^{-6}$$\n",
    "$$r = 4.26352\\times 10^{-5}$$\n",
    "$$\\rho_{gas} = 5\\times 10^{-9}\\,\\mathrm{g\\,cm}^{-3}=8.41645\\times 10^{-3}$$\n",
    "$$C_d = 1$$\n",
    "\n",
    "At $a = 0.25$\n",
    "\n",
    "$$\n",
    "\\renewcommand{\\e}[2]{{#1}\\times 10^{{#2}}}\n",
    "\n",
    "\\begin{array}{|c|c|c|}\n",
    "\\hline\n",
    "k & F_d & \\Delta a_{1/2} \\\\ \\hline\n",
    "0.90 & \\e{3.7950}{-11} & \\e{3.1457}{-10} \\\\ \\hline\n",
    "0.95 & \\e{9.4875}{-12} & \\e{7.8641}{-9} \\\\ \\hline\n",
    "0.99 & \\e{3.7950}{-13} & \\e{3.1457}{-10} \\\\ \\hline\n",
    "1.00 & 0 & 0 \\\\ \\hline\n",
    "\\end{array}\n",
    "$$\n"
   ]
  },
  {
   "cell_type": "code",
   "execution_count": 3,
   "metadata": {},
   "outputs": [
    {
     "data": {
      "text/plain": [
       "(0.9, 0.95, 0.99, 1.0, 1.01, 1.05, 1.1)"
      ]
     },
     "execution_count": 3,
     "metadata": {},
     "output_type": "execute_result"
    }
   ],
   "source": [
    "fscales = tuple(map(float, scales))\n",
    "fscales"
   ]
  },
  {
   "cell_type": "code",
   "execution_count": 11,
   "metadata": {},
   "outputs": [
    {
     "name": "stdout",
     "output_type": "stream",
     "text": [
      "0.900000 3.7950e-11, 3.1457e-08\n",
      "0.950000 9.4875e-12, 7.8641e-09\n",
      "0.990000 3.7950e-13, 3.1457e-10\n",
      "1.000000 0.0000e+00, 0.0000e+00\n",
      "1.010000 3.7950e-13, 3.1457e-10\n",
      "1.050000 9.4875e-12, 7.8641e-09\n",
      "1.100000 3.7950e-11, 3.1457e-08\n"
     ]
    }
   ],
   "source": [
    "from math import pi\n",
    "G = 4 * pi * pi\n",
    "M = 1 + 3e-6\n",
    "m = 3e-6\n",
    "r = 4.26352e-5\n",
    "rho = 8.41645e-3\n",
    "C_d = 1\n",
    "a = 0.249996250\n",
    "for k in fscales:\n",
    "    F_d = 0.5 * C_d * pi * r * r * rho * (k-1)**2 * G * M / a\n",
    "    a_d = F_d / m\n",
    "    dA = 2 * pi * F_d * a**3 / (G * M * m)\n",
    "    print(f\"{k:02f} {F_d:.04e}, {dA:.04e}\")"
   ]
  }
 ],
 "metadata": {
  "interpreter": {
   "hash": "ba05344f9019a867cd8f236f4037fbf6c101774b5b2d81ebfd8683f07c80fd93"
  },
  "kernelspec": {
   "display_name": "Python 3.10.4 ('cassum-2022-project-21')",
   "language": "python",
   "name": "python3"
  },
  "language_info": {
   "codemirror_mode": {
    "name": "ipython",
    "version": 3
   },
   "file_extension": ".py",
   "mimetype": "text/x-python",
   "name": "python",
   "nbconvert_exporter": "python",
   "pygments_lexer": "ipython3",
   "version": "3.10.4"
  },
  "orig_nbformat": 4
 },
 "nbformat": 4,
 "nbformat_minor": 2
}

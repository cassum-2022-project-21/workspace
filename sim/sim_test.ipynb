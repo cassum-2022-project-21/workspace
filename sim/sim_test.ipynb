{
 "cells": [
  {
   "cell_type": "code",
   "execution_count": 1,
   "metadata": {},
   "outputs": [],
   "source": [
    "%reload_ext autoreload\n",
    "%autoreload 1\n",
    "\n",
    "%aimport simulation\n",
    "import simulation\n",
    "\n",
    "%aimport rebforces\n",
    "import rebforces"
   ]
  },
  {
   "cell_type": "code",
   "execution_count": 2,
   "metadata": {},
   "outputs": [],
   "source": [
    "sim = simulation.Simulation()"
   ]
  },
  {
   "cell_type": "code",
   "execution_count": 3,
   "metadata": {},
   "outputs": [],
   "source": [
    "sim.parse_arguments(\n",
    "    [\n",
    "        \"-t\", \"10.0\",\n",
    "        \"-d\", \"0.5\",\n",
    "        \"-n\", \"100\",\n",
    "        \"-c\", \"rebound\",\n",
    "        \"--a-in\", \"0.22\",\n",
    "        \"--a-out\", \"0.24\",\n",
    "        \"--std-i\", \"0\",\n",
    "        \"--std-e\", \"0.05\",\n",
    "        \"-m\", \"1.0\",\n",
    "        \"--rho\", \"3.0\",\n",
    "        \"--no-continue\"\n",
    "    ]\n",
    ")"
   ]
  },
  {
   "cell_type": "code",
   "execution_count": 4,
   "metadata": {},
   "outputs": [
    {
     "name": "stdout",
     "output_type": "stream",
     "text": [
      "Using rebound as the integrator...\n",
      "Namespace(seed=0, t_end=10.0, N_end=-1, N_enddelay=10000.0, store_dt=0.5, n_p=100, code='rebound', a_in=0.22, a_out=0.24, alpha=None, std_i=0.0, std_e=0.05, m_total=1.0, m_star=1.0, rho=3.0, ef=1.0, pm=0.0, pa=0.1, prh=10.0, prho=5.0, pa_rate=0.0, pa_beta='2_3', rebound_archive='rebound_archive_0.bin', reb_no_continue=True, C_d=0.0, velocity_file=None, density_file=None)\n"
     ]
    }
   ],
   "source": [
    "sim.init()"
   ]
  },
  {
   "cell_type": "code",
   "execution_count": 5,
   "metadata": {},
   "outputs": [
    {
     "name": "stdout",
     "output_type": "stream",
     "text": [
      "Creating equal-mass system...\n",
      "Adding the host star of 1.000000 Solar masses\n",
      "Adding N=100 planetesimals...\n"
     ]
    }
   ],
   "source": [
    "sim.ic_generate()"
   ]
  },
  {
   "cell_type": "code",
   "execution_count": 6,
   "metadata": {},
   "outputs": [],
   "source": [
    "import numpy as np\n",
    "from pathlib import Path\n",
    "\n",
    "profile_root = Path(\"../disk/calculated_profiles/\")\n",
    "profile_name = \"20220714_1\"\n",
    "profile = np.load(profile_root / profile_name / \"all_variables.npz\")"
   ]
  },
  {
   "cell_type": "code",
   "execution_count": 7,
   "metadata": {},
   "outputs": [],
   "source": [
    "rebforces.set_profiles(\n",
    "    len(profile[\"r\"]),\n",
    "    profile[\"r\"],\n",
    "    profile[\"velocity\"].T,\n",
    "    profile[\"rho_0\"],\n",
    "    profile[\"C_D\"]\n",
    ")\n",
    "\n",
    "sim.sim.additional_forces = rebforces.IOPF_drag_all\n",
    "sim.sim.force_is_velocity_dependent = 1"
   ]
  },
  {
   "cell_type": "code",
   "execution_count": 9,
   "metadata": {},
   "outputs": [
    {
     "name": "stdout",
     "output_type": "stream",
     "text": [
      "Start integration...\n",
      "t = 0.000000, N = 101, sysT = 0.000008\n"
     ]
    },
    {
     "ename": "KeyboardInterrupt",
     "evalue": "",
     "output_type": "error",
     "traceback": [
      "\u001b[0;31m---------------------------------------------------------------------------\u001b[0m",
      "\u001b[0;31mKeyboardInterrupt\u001b[0m                         Traceback (most recent call last)",
      "\u001b[1;32m/home/alchzh/cassum-2022-project-21/workspace/sim/ctypes.ipynb Cell 9\u001b[0m in \u001b[0;36m<cell line: 1>\u001b[0;34m()\u001b[0m\n\u001b[0;32m----> <a href='vscode-notebook-cell://ssh-remote%2Bhome/home/alchzh/cassum-2022-project-21/workspace/sim/ctypes.ipynb#ch0000008vscode-remote?line=0'>1</a>\u001b[0m sim\u001b[39m.\u001b[39;49mevolve_model()\n",
      "File \u001b[0;32m~/cassum-2022-project-21/workspace/sim/simulation.py:287\u001b[0m, in \u001b[0;36mSimulation.evolve_model\u001b[0;34m(self)\u001b[0m\n\u001b[1;32m    285\u001b[0m \u001b[39mwhile\u001b[39;00m \u001b[39mself\u001b[39m\u001b[39m.\u001b[39msim\u001b[39m.\u001b[39mt \u001b[39m<\u001b[39m \u001b[39mself\u001b[39m\u001b[39m.\u001b[39mt_store \u001b[39m+\u001b[39m \u001b[39mself\u001b[39m\u001b[39m.\u001b[39mdt:\n\u001b[1;32m    286\u001b[0m     \u001b[39mtry\u001b[39;00m:\n\u001b[0;32m--> 287\u001b[0m         \u001b[39mself\u001b[39;49m\u001b[39m.\u001b[39;49msim\u001b[39m.\u001b[39;49mintegrate(\u001b[39mself\u001b[39;49m\u001b[39m.\u001b[39;49mt_store\u001b[39m+\u001b[39;49m\u001b[39mself\u001b[39;49m\u001b[39m.\u001b[39;49mdt)\n\u001b[1;32m    288\u001b[0m         \u001b[39mself\u001b[39m\u001b[39m.\u001b[39mpebble_accretion()\n\u001b[1;32m    289\u001b[0m         \u001b[39mself\u001b[39m\u001b[39m.\u001b[39msim\u001b[39m.\u001b[39mmove_to_com()\n",
      "File \u001b[0;32m~/cassum-2022-project-21/workspace/src/rebound/rebound/simulation.py:1773\u001b[0m, in \u001b[0;36mSimulation.integrate\u001b[0;34m(self, tmax, exact_finish_time)\u001b[0m\n\u001b[1;32m   1771\u001b[0m     \u001b[39mraise\u001b[39;00m Escape(\u001b[39m\"\u001b[39m\u001b[39mUser caused exit. Simulation did not finish.\u001b[39m\u001b[39m\"\u001b[39m) \u001b[39m# should not occur in python\u001b[39;00m\n\u001b[1;32m   1772\u001b[0m \u001b[39mif\u001b[39;00m ret_value \u001b[39m==\u001b[39m \u001b[39m6\u001b[39m:\n\u001b[0;32m-> 1773\u001b[0m     \u001b[39mraise\u001b[39;00m \u001b[39mKeyboardInterrupt\u001b[39;00m\n\u001b[1;32m   1774\u001b[0m \u001b[39mif\u001b[39;00m ret_value \u001b[39m==\u001b[39m \u001b[39m7\u001b[39m:\n\u001b[1;32m   1775\u001b[0m     \u001b[39mraise\u001b[39;00m Collision(\u001b[39m\"\u001b[39m\u001b[39mTwo particles collided (d < r1+r2)\u001b[39m\u001b[39m\"\u001b[39m)\n",
      "\u001b[0;31mKeyboardInterrupt\u001b[0m: "
     ]
    }
   ],
   "source": [
    "sim"
   ]
  }
 ],
 "metadata": {
  "kernelspec": {
   "display_name": "Python 3.10.4 ('cassum-2022-project-21')",
   "language": "python",
   "name": "python3"
  },
  "language_info": {
   "codemirror_mode": {
    "name": "ipython",
    "version": 3
   },
   "file_extension": ".py",
   "mimetype": "text/x-python",
   "name": "python",
   "nbconvert_exporter": "python",
   "pygments_lexer": "ipython3",
   "version": "3.10.4"
  },
  "orig_nbformat": 4,
  "vscode": {
   "interpreter": {
    "hash": "ba05344f9019a867cd8f236f4037fbf6c101774b5b2d81ebfd8683f07c80fd93"
   }
  }
 },
 "nbformat": 4,
 "nbformat_minor": 2
}

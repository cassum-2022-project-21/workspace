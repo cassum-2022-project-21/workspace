{
 "cells": [
  {
   "cell_type": "code",
   "execution_count": 1,
   "metadata": {},
   "outputs": [],
   "source": [
    "from pathlib import Path\n",
    "import numpy as np\n",
    "from sim import rebforces\n",
    "from amuse.units import units\n",
    "\n",
    "gas_profile_root = Path(\"disk/calculated_profiles/\")\n",
    "gas_profile_name = \"20220721\"\n",
    "gas_profile = np.load(gas_profile_root / gas_profile_name / \"all_variables.npz\")\n",
    "\n",
    "# rebforces.set_profiles(\n",
    "#     len(gas_profile[\"r\"]),\n",
    "#     gas_profile[\"r\"],\n",
    "#     gas_profile[\"velocity\"].T * rebforces.CM_PER_S,\n",
    "#     gas_profile[\"rho_0\"] * rebforces.G_PER_CM3,\n",
    "#     1.0\n",
    "# )\n",
    "\n",
    "# rebforces.copy_np_to_c(gas_profile[\"sigma\"] * rebforces.G_PER_CM3 / 14959787070000, rebforces.SURFACE_DENSITY_PROF, rebforces.STD_PROF_N.value)\n",
    "# rebforces.copy_np_to_c(gas_profile[\"H\"] / gas_profile[\"r_cm\"], rebforces.SCALE_HEIGHT_PROF, rebforces.STD_PROF_N.value)\n",
    "# rebforces.copy_np_to_c(gas_profile[\"torque\"], rebforces.TORQUE_PROF, rebforces.STD_PROF_N.value)"
   ]
  },
  {
   "cell_type": "code",
   "execution_count": 2,
   "metadata": {},
   "outputs": [],
   "source": [
    "import rebound\n",
    "from collections import namedtuple\n",
    "\n",
    "EARTH_MASS = (1 | units.MEarth).value_in(units.MSun)\n",
    "\n",
    "TestOutput = namedtuple(\"TestOutput\", [\"t\", \"dt\", \"a\", \"rDa\", \"e\", \"rDe\", \"i\", \"rDi\", \"Dh\"])\n",
    "\n",
    "class TestSimulation(rebound.Simulation):\n",
    "    def __init__(self, m=EARTH_MASS, rho_p=np.float64(3.) * rebforces.G_PER_CM3, a=0.25, e=0.0, inc=0.0, output_dt=None):\n",
    "        super().__init__(self)\n",
    "        \n",
    "        self.G = 4 * np.pi ** 2\n",
    "        self.integrator = \"IAS15\"\n",
    "\n",
    "        sun = rebound.Particle(m=1.)\n",
    "        self.add(sun)\n",
    "\n",
    "        p = rebound.Particle(simulation=self, primary=self.particles[0], m=m, r=(3 * m / (4 * np.pi * rho_p))**(1./3), a=a, e=e, inc=inc)\n",
    "        self.add(p)\n",
    "\n",
    "        if output_dt is None:\n",
    "            self.output_dt = self.particles[1].P\n",
    "        else:\n",
    "            self.output_dt = output_dt\n",
    "\n",
    "        self.old_t = self.t\n",
    "        self.old_orbit = self.particles[1].calculate_orbit()\n",
    "\n",
    "    def __iter__(self):\n",
    "        while True:\n",
    "            self.integrate(self.t + self.output_dt)\n",
    "\n",
    "            dt = self.t - self.old_t\n",
    "            new_orbit = self.particles[1].calculate_orbit()\n",
    "\n",
    "            def rD(attr):\n",
    "                val = getattr(new_orbit, attr)\n",
    "                if val == 0.0:\n",
    "                    return 0\n",
    "                else:\n",
    "                    return (val - getattr(self.old_orbit, attr)) / dt / val\n",
    "\n",
    "            ret = TestOutput(\n",
    "                t = self.t,\n",
    "                dt = dt,\n",
    "                a = new_orbit.a,\n",
    "                rDa = rD(\"a\"),\n",
    "                e = new_orbit.e,\n",
    "                rDe = rD(\"e\"),\n",
    "                i = new_orbit.inc,\n",
    "                rDi = rD(\"inc\"),\n",
    "                Dh = (new_orbit.h - self.old_orbit.h) / dt\n",
    "            )\n",
    "\n",
    "            yield ret\n",
    "\n",
    "            self.old_t = self.t\n",
    "            self.old_orbit = new_orbit"
   ]
  },
  {
   "cell_type": "code",
   "execution_count": 3,
   "metadata": {},
   "outputs": [],
   "source": [
    "import numpy as np\n",
    "from sim import rebforces\n",
    "from amuse.units import units\n",
    "\n",
    "def set_simple_profile(a, alpha, Sigma, eta, torque, C_D, h):\n",
    "    r = np.linspace(a-0.05, a+0.05, rebforces.__STD_PROF_NMAX__)\n",
    "    velocity = np.stack([(2 * np.pi / np.sqrt(r)) * (1 - 2 * eta)**2, np.zeros_like(r)])\n",
    "    Sigma = Sigma * np.exp(-alpha * (r - a))\n",
    "    h = np.full_like(r, h)\n",
    "    rho_0 = Sigma / (h * r * np.sqrt(2*np.pi))\n",
    "    torque = np.full_like(r, torque)\n",
    "\n",
    "    rebforces.set_profiles(\n",
    "        rebforces.__STD_PROF_NMAX__,\n",
    "        r,\n",
    "        velocity,\n",
    "        rho_0 * rebforces.G_PER_CM3,\n",
    "        C_D\n",
    "    )\n",
    "\n",
    "# rebforces.set_profiles(\n",
    "#     len(gas_profile[\"r\"]),\n",
    "#     gas_profile[\"r\"],\n",
    "#     gas_profile[\"velocity\"].T * rebforces.CM_PER_S,\n",
    "#     gas_profile[\"rho_0\"] * rebforces.G_PER_CM3,\n",
    "#     1.0\n",
    "# )\n",
    "\n",
    "    rebforces.copy_np_to_c(Sigma * rebforces.G_PER_CM3 / 14959787070000, rebforces.SURFACE_DENSITY_PROF, rebforces.STD_PROF_N.value)\n",
    "    rebforces.copy_np_to_c(h, rebforces.SCALE_HEIGHT_PROF, rebforces.STD_PROF_N.value)\n",
    "    rebforces.copy_np_to_c(torque, rebforces.TORQUE_PROF, rebforces.STD_PROF_N.value)"
   ]
  },
  {
   "cell_type": "code",
   "execution_count": 4,
   "metadata": {},
   "outputs": [],
   "source": [
    "a = 0.26\n",
    "i = np.argmin(np.abs(gas_profile[\"r\"] - a))\n",
    "\n",
    "a = gas_profile[\"r\"][i]\n",
    "Sigma = gas_profile[\"sigma\"][i]\n",
    "torque = 0.05\n",
    "C_D = 0.44\n",
    "eta = 0.002\n",
    "h = gas_profile[\"H\"][i] / gas_profile[\"r_cm\"][i]\n",
    "\n",
    "lnSigma = np.log(gas_profile[\"sigma\"])\n",
    "alpha = -np.gradient(lnSigma, gas_profile[\"r\"])[i]\n",
    "\n",
    "set_simple_profile(a, alpha, Sigma, eta, torque, C_D, h)"
   ]
  },
  {
   "cell_type": "code",
   "execution_count": 5,
   "metadata": {},
   "outputs": [
    {
     "data": {
      "text/plain": [
       "2048"
      ]
     },
     "execution_count": 5,
     "metadata": {},
     "output_type": "execute_result"
    }
   ],
   "source": [
    "rebforces.__STD_PROF_NMAX__"
   ]
  },
  {
   "cell_type": "code",
   "execution_count": 6,
   "metadata": {},
   "outputs": [
    {
     "name": "stdout",
     "output_type": "stream",
     "text": [
      "TestOutput(t=0.13379381437671553, dt=0.13379381437671553, a=0.26159199999999994, rDa=-1.5860604675492848e-15, e=9.49259427713451e-18, rDe=7.474187088981242, i=0.0, rDi=0, Dh=0.0)\n",
      "TestOutput(t=0.26758762875343106, dt=0.13379381437671553, a=0.261592, rDa=1.5860604675492844e-15, e=1.0502106671261862e-16, rDe=6.798613817751354, i=0.0, rDi=0, Dh=0.0)\n",
      "TestOutput(t=0.40138144313014656, dt=0.1337938143767155, a=0.261592, rDa=0.0, e=1.310415177380151e-16, rDe=1.4841229135662548, i=0.0, rDi=0, Dh=0.0)\n",
      "TestOutput(t=0.5351752575068621, dt=0.13379381437671556, a=0.26159199999999994, rDa=-1.5860604675492844e-15, e=1.910042808380027e-16, rDe=2.346402435669381, i=0.0, rDi=0, Dh=0.0)\n",
      "TestOutput(t=0.6689690718835777, dt=0.13379381437671556, a=0.261592, rDa=1.586060467549284e-15, e=3.4748464140203054e-16, rDe=3.365799092264432, i=0.0, rDi=0, Dh=0.0)\n",
      "TestOutput(t=0.8027628862602932, dt=0.13379381437671556, a=0.26159199999999994, rDa=-1.5860604675492844e-15, e=3.769362927933728e-16, rDe=0.5839903367941671, i=0.0, rDi=0, Dh=0.0)\n",
      "TestOutput(t=0.9365567006370088, dt=0.13379381437671556, a=0.2615919999999999, rDa=-1.5860604675492848e-15, e=5.498155497757649e-16, rDe=2.350118891721859, i=0.0, rDi=0, Dh=-3.3192058386172184e-15)\n",
      "TestOutput(t=1.0703505150137242, dt=0.13379381437671545, a=0.26159200000000005, rDa=4.758181402647855e-15, e=5.74770397277584e-16, rDe=0.3245073161196817, i=0.0, rDi=0, Dh=6.6384116772344424e-15)\n",
      "TestOutput(t=1.2041443293904397, dt=0.13379381437671545, a=0.26159199999999994, rDa=-3.1721209350985715e-15, e=3.8322532458154397e-16, rDe=-3.7357753193006604, i=0.0, rDi=0, Dh=-3.3192058386172212e-15)\n",
      "TestOutput(t=1.3379381437671551, dt=0.13379381437671545, a=0.26159199999999994, rDa=0.0, e=3.7801679991437044e-16, rDe=-0.10298348599545619, i=0.0, rDi=0, Dh=0.0)\n"
     ]
    }
   ],
   "source": [
    "from itertools import islice\n",
    "\n",
    "test_sim = TestSimulation(a=a)\n",
    "for i in islice(test_sim, 10):\n",
    "    print(i)\n"
   ]
  },
  {
   "cell_type": "code",
   "execution_count": null,
   "metadata": {},
   "outputs": [
    {
     "ename": "",
     "evalue": "",
     "output_type": "error",
     "traceback": [
      "\u001b[1;31mCanceled future for execute_request message before replies were done"
     ]
    },
    {
     "ename": "",
     "evalue": "",
     "output_type": "error",
     "traceback": [
      "\u001b[1;31mThe Kernel crashed while executing code in the the current cell or a previous cell. Please review the code in the cell(s) to identify a possible cause of the failure. Click <a href='https://aka.ms/vscodeJupyterKernelCrash'>here</a> for more info. View Jupyter <a href='command:jupyter.viewOutput'>log</a> for further details."
     ]
    }
   ],
   "source": [
    "from itertools import islice\n",
    "\n",
    "test_sim = TestSimulation(a=a)\n",
    "\n",
    "test_sim.additional_forces = rebforces.IOPF_drag_all\n",
    "test_sim.force_is_velocity_dependent = 1\n",
    "\n",
    "for i in islice(test_sim, 10):\n",
    "    print(i)\n"
   ]
  }
 ],
 "metadata": {
  "kernelspec": {
   "display_name": "Python 3.10.4 ('cassum-2022-project-21')",
   "language": "python",
   "name": "python3"
  },
  "language_info": {
   "codemirror_mode": {
    "name": "ipython",
    "version": 3
   },
   "file_extension": ".py",
   "mimetype": "text/x-python",
   "name": "python",
   "nbconvert_exporter": "python",
   "pygments_lexer": "ipython3",
   "version": "3.10.4"
  },
  "orig_nbformat": 4,
  "vscode": {
   "interpreter": {
    "hash": "ba05344f9019a867cd8f236f4037fbf6c101774b5b2d81ebfd8683f07c80fd93"
   }
  }
 },
 "nbformat": 4,
 "nbformat_minor": 2
}

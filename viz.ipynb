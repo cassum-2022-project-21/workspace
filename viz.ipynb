{
 "cells": [
  {
   "cell_type": "code",
   "execution_count": 11,
   "metadata": {},
   "outputs": [
    {
     "name": "stdout",
     "output_type": "stream",
     "text": [
      "The autoreload extension is already loaded. To reload it, use:\n",
      "  %reload_ext autoreload\n"
     ]
    }
   ],
   "source": [
    "%load_ext autoreload\n",
    "%autoreload 1\n",
    "%aimport util"
   ]
  },
  {
   "cell_type": "code",
   "execution_count": 12,
   "metadata": {},
   "outputs": [],
   "source": [
    "import h5py\n",
    "import numpy as np\n",
    "import matplotlib.pyplot as plt\n",
    "from amuse.units import units\n",
    "\n",
    "import util"
   ]
  },
  {
   "cell_type": "code",
   "execution_count": 13,
   "metadata": {},
   "outputs": [
    {
     "data": {
      "text/plain": [
       "<KeysViewHDF5 ['Step#0', 'Step#1', 'Step#2', 'Step#3', 'Step#4', 'Step#5', 'Step#6', 'Step#7']>"
      ]
     },
     "execution_count": 13,
     "metadata": {},
     "output_type": "execute_result"
    }
   ],
   "source": [
    "f = h5py.File(\"sim/simon_simulations/iopf_sim_ALPHA_-2_BETA_2_3_100/data_reb_100.h5\")\n",
    "f.keys()"
   ]
  },
  {
   "cell_type": "code",
   "execution_count": 14,
   "metadata": {},
   "outputs": [
    {
     "data": {
      "text/plain": [
       "<KeysViewHDF5 ['a', 'ecc', 'energy', 'hash', 'inc', 'mass', 'ptype', 'radius', 'time', 'vx', 'vy', 'vz', 'x', 'y', 'z']>"
      ]
     },
     "execution_count": 14,
     "metadata": {},
     "output_type": "execute_result"
    }
   ],
   "source": [
    "s0 = f[\"Step#0\"]\n",
    "s0.keys()"
   ]
  },
  {
   "cell_type": "code",
   "execution_count": 15,
   "metadata": {},
   "outputs": [],
   "source": [
    "sorted_steps = util.sorted_steps(f)\n",
    "hashes = sorted_steps[0][\"hash\"][0]\n",
    "prop_table = util.prop_table(hashes)"
   ]
  },
  {
   "cell_type": "markdown",
   "metadata": {},
   "source": [
    "# Mass growth over time (Figure 1 in IOPF VI)\n",
    "\n",
    "![](images/figure-1.png)  "
   ]
  },
  {
   "cell_type": "code",
   "execution_count": 42,
   "metadata": {},
   "outputs": [],
   "source": [
    "def plot_one_mass_growth_over_time(ax, p_hash, steps, **kwargs):\n",
    "    mass = []\n",
    "    time = []\n",
    "    for step in steps:\n",
    "        hashes = step[\"hash\"][0]\n",
    "        i, = np.where(np.isclose(hashes, p_hash))\n",
    "        if i.size == 0:\n",
    "            break\n",
    "        mass.extend((step[\"mass\"][:, i] | units.MSun).value_in(units.MEarth))\n",
    "        time.extend(step[\"time\"])\n",
    "    ax.plot(time, mass, **kwargs)"
   ]
  },
  {
   "cell_type": "code",
   "execution_count": null,
   "metadata": {},
   "outputs": [],
   "source": [
    "fig, axs = plt.subplots(6, 6, sharex=True, sharey=True, figsize=(16, 16), constrained_layout=True)\n",
    "\n",
    "ax = axs[0][0]\n",
    "for p_hash in hashes[1:]:\n",
    "    plot_one_mass_growth_over_time(ax, p_hash, sorted_steps, linewidth=0.8, **prop_table[p_hash])\n",
    "ax.set_xscale('log')\n",
    "ax.set_yscale('log')\n",
    "\n",
    "for (y, x), ax in np.ndenumerate(axs):\n",
    "    if y == 0:\n",
    "        ax.set_xlabel(f'seed = {100 * (x+1)}')\n",
    "        ax.xaxis.set_label_position('top')\n",
    "    ax.xaxis.set_tick_params(labelbottom=True)\n",
    "\n",
    "fig.supxlabel('$t$ [yr]')\n",
    "fig.supylabel('$M_{\\oplus}$ [yr]')\n",
    "plt.show()"
   ]
  },
  {
   "cell_type": "code",
   "execution_count": 49,
   "metadata": {},
   "outputs": [
    {
     "ename": "NotImplementedError",
     "evalue": "Non-relative patterns are unsupported",
     "output_type": "error",
     "traceback": [
      "\u001b[0;31m---------------------------------------------------------------------------\u001b[0m",
      "\u001b[0;31mNotImplementedError\u001b[0m                       Traceback (most recent call last)",
      "\u001b[1;32m/home/alchzh/cassum-2022-project-21/workspace/viz.ipynb Cell 9'\u001b[0m in \u001b[0;36m<cell line: 1>\u001b[0;34m()\u001b[0m\n\u001b[0;32m----> <a href='vscode-notebook-cell://wsl%2Bubuntu/home/alchzh/cassum-2022-project-21/workspace/viz.ipynb#ch0000021vscode-remote?line=0'>1</a>\u001b[0m \u001b[39mlist\u001b[39;49m(util\u001b[39m.\u001b[39;49mfind_all_simulations(\u001b[39m\"\u001b[39;49m\u001b[39msim/simon_simulations\u001b[39;49m\u001b[39m\"\u001b[39;49m))\n",
      "File \u001b[0;32m~/miniforge3/envs/cassum-2022-project-21/lib/python3.10/pathlib.py:1030\u001b[0m, in \u001b[0;36mPath.glob\u001b[0;34m(self, pattern)\u001b[0m\n\u001b[1;32m   <a href='file:///home/alchzh/miniforge3/envs/cassum-2022-project-21/lib/python3.10/pathlib.py?line=1027'>1028</a>\u001b[0m drv, root, pattern_parts \u001b[39m=\u001b[39m \u001b[39mself\u001b[39m\u001b[39m.\u001b[39m_flavour\u001b[39m.\u001b[39mparse_parts((pattern,))\n\u001b[1;32m   <a href='file:///home/alchzh/miniforge3/envs/cassum-2022-project-21/lib/python3.10/pathlib.py?line=1028'>1029</a>\u001b[0m \u001b[39mif\u001b[39;00m drv \u001b[39mor\u001b[39;00m root:\n\u001b[0;32m-> <a href='file:///home/alchzh/miniforge3/envs/cassum-2022-project-21/lib/python3.10/pathlib.py?line=1029'>1030</a>\u001b[0m     \u001b[39mraise\u001b[39;00m \u001b[39mNotImplementedError\u001b[39;00m(\u001b[39m\"\u001b[39m\u001b[39mNon-relative patterns are unsupported\u001b[39m\u001b[39m\"\u001b[39m)\n\u001b[1;32m   <a href='file:///home/alchzh/miniforge3/envs/cassum-2022-project-21/lib/python3.10/pathlib.py?line=1030'>1031</a>\u001b[0m selector \u001b[39m=\u001b[39m _make_selector(\u001b[39mtuple\u001b[39m(pattern_parts), \u001b[39mself\u001b[39m\u001b[39m.\u001b[39m_flavour)\n\u001b[1;32m   <a href='file:///home/alchzh/miniforge3/envs/cassum-2022-project-21/lib/python3.10/pathlib.py?line=1031'>1032</a>\u001b[0m \u001b[39mfor\u001b[39;00m p \u001b[39min\u001b[39;00m selector\u001b[39m.\u001b[39mselect_from(\u001b[39mself\u001b[39m):\n",
      "\u001b[0;31mNotImplementedError\u001b[0m: Non-relative patterns are unsupported"
     ]
    }
   ],
   "source": [
    "list(util.find_all_simulations(\"sim/simon_simulations\"))"
   ]
  }
 ],
 "metadata": {
  "interpreter": {
   "hash": "ba05344f9019a867cd8f236f4037fbf6c101774b5b2d81ebfd8683f07c80fd93"
  },
  "kernelspec": {
   "display_name": "Python 3.10.4 ('cassum-2022-project-21')",
   "language": "python",
   "name": "python3"
  },
  "language_info": {
   "codemirror_mode": {
    "name": "ipython",
    "version": 3
   },
   "file_extension": ".py",
   "mimetype": "text/x-python",
   "name": "python",
   "nbconvert_exporter": "python",
   "pygments_lexer": "ipython3",
   "version": "3.10.4"
  },
  "orig_nbformat": 4
 },
 "nbformat": 4,
 "nbformat_minor": 2
}

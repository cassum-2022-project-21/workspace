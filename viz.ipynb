{
 "cells": [
  {
   "cell_type": "code",
   "execution_count": 1,
   "metadata": {},
   "outputs": [],
   "source": [
    "%load_ext autoreload\n",
    "%autoreload 1\n",
    "%aimport util"
   ]
  },
  {
   "cell_type": "code",
   "execution_count": 10,
   "metadata": {},
   "outputs": [],
   "source": [
    "import h5py\n",
    "import numpy as np\n",
    "import matplotlib.pyplot as plt\n",
    "from amuse.units import units\n",
    "\n",
    "import util"
   ]
  },
  {
   "cell_type": "code",
   "execution_count": 3,
   "metadata": {},
   "outputs": [
    {
     "data": {
      "text/plain": [
       "<KeysViewHDF5 ['Step#0', 'Step#1', 'Step#10', 'Step#11', 'Step#12', 'Step#13', 'Step#14', 'Step#15', 'Step#16', 'Step#17', 'Step#18', 'Step#19', 'Step#2', 'Step#20', 'Step#21', 'Step#3', 'Step#4', 'Step#5', 'Step#6', 'Step#7', 'Step#8', 'Step#9']>"
      ]
     },
     "execution_count": 3,
     "metadata": {},
     "output_type": "execute_result"
    }
   ],
   "source": [
    "f = h5py.File(\"data_reb_52.h5\")\n",
    "f.keys()"
   ]
  },
  {
   "cell_type": "code",
   "execution_count": 4,
   "metadata": {},
   "outputs": [
    {
     "data": {
      "text/plain": [
       "<KeysViewHDF5 ['a', 'ecc', 'energy', 'hash', 'inc', 'mass', 'ptype', 'radius', 'time', 'vx', 'vy', 'vz', 'x', 'y', 'z']>"
      ]
     },
     "execution_count": 4,
     "metadata": {},
     "output_type": "execute_result"
    }
   ],
   "source": [
    "s0 = f[\"Step#0\"]\n",
    "s0.keys()"
   ]
  },
  {
   "cell_type": "code",
   "execution_count": 7,
   "metadata": {},
   "outputs": [],
   "source": [
    "sorted_steps = util.sorted_steps(f)\n",
    "hashes = sorted_steps[0][\"hash\"][0]\n",
    "prop_table = util.prop_table(hashes)"
   ]
  },
  {
   "cell_type": "markdown",
   "metadata": {},
   "source": [
    "# Mass growth over time (Figure 1 in IOPF VI)\n",
    "\n",
    "![](images/figure-1.png)  "
   ]
  },
  {
   "cell_type": "code",
   "execution_count": 13,
   "metadata": {},
   "outputs": [
    {
     "data": {
      "image/png": "[encoded data removed]",
      "text/plain": [
       "<Figure size 432x288 with 1 Axes>"
      ]
     },
     "metadata": {
      "needs_background": "light"
     },
     "output_type": "display_data"
    }
   ],
   "source": [
    "def plot_one_mass_growth_over_time(ax, p_hash, steps, **kwargs):\n",
    "    mass = []\n",
    "    time = []\n",
    "    for step in steps:\n",
    "        hashes = step[\"hash\"][0]\n",
    "        i, = np.where(np.isclose(hashes, p_hash))\n",
    "        if i.size == 0:\n",
    "            break\n",
    "        mass.extend((step[\"mass\"][:, i] | units.MSun).value_in(units.MEarth))\n",
    "        time.extend(step[\"time\"])\n",
    "    ax.plot(time, mass, **kwargs)\n",
    "    \n",
    "fig, ax = plt.subplots()\n",
    "for p_hash in hashes[1:]:\n",
    "    plot_one_mass_growth_over_time(ax, p_hash, sorted_steps, **prop_table[p_hash])\n",
    "ax.set_xscale('log')\n",
    "ax.set_yscale('log')"
   ]
  }
 ],
 "metadata": {
  "interpreter": {
   "hash": "ba05344f9019a867cd8f236f4037fbf6c101774b5b2d81ebfd8683f07c80fd93"
  },
  "kernelspec": {
   "display_name": "Python 3.10.4 ('cassum-2022-project-21')",
   "language": "python",
   "name": "python3"
  },
  "language_info": {
   "codemirror_mode": {
    "name": "ipython",
    "version": 3
   },
   "file_extension": ".py",
   "mimetype": "text/x-python",
   "name": "python",
   "nbconvert_exporter": "python",
   "pygments_lexer": "ipython3",
   "version": "3.10.4"
  },
  "orig_nbformat": 4
 },
 "nbformat": 4,
 "nbformat_minor": 2
}
